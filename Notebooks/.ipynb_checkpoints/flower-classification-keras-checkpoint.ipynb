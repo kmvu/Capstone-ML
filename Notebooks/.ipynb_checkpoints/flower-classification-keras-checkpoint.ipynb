{
 "cells": [
  {
   "cell_type": "markdown",
   "metadata": {},
   "source": [
    "# Machine Learning Nanodegree - Capstone project\n",
    "\n",
    "# Flower classification"
   ]
  },
  {
   "cell_type": "markdown",
   "metadata": {},
   "source": [
    "Import necessary Python packages (for loading, plotting, and augmenting data, building Neural Network, etc...)"
   ]
  },
  {
   "cell_type": "code",
   "execution_count": 1,
   "metadata": {
    "_uuid": "8a35cfee1862b9f88610f11ae19c4fe17a895c70"
   },
   "outputs": [
    {
     "name": "stdout",
     "output_type": "stream",
     "text": [
      "env: KERAS_BACKEND=theano\n"
     ]
    },
    {
     "name": "stderr",
     "output_type": "stream",
     "text": [
      "Using Theano backend.\n"
     ]
    }
   ],
   "source": [
    "%env KERAS_BACKEND=theano\n",
    "\n",
    "import numpy as np\n",
    "import pandas as pd\n",
    "import seaborn as sns\n",
    "import matplotlib.pyplot as plt\n",
    "import os\n",
    "import json\n",
    "\n",
    "from keras import backend as k\n",
    "from keras import optimizers, regularizers\n",
    "from keras.models import Sequential, Model, load_model\n",
    "from keras.layers import Dense, Flatten, Dropout, Conv2D, GlobalAveragePooling2D, Input\n",
    "from keras.callbacks import ModelCheckpoint, EarlyStopping\n",
    "from keras.preprocessing import image\n",
    "from keras.applications.vgg19 import VGG19, preprocess_input\n",
    "from keras.preprocessing.image import ImageDataGenerator\n",
    "\n",
    "from tqdm import tqdm\n",
    "from scipy.io import loadmat\n",
    "from collections import Counter\n",
    "from sklearn.metrics import confusion_matrix, f1_score, precision_score, recall_score\n",
    "\n",
    "%matplotlib inline"
   ]
  },
  {
   "cell_type": "markdown",
   "metadata": {},
   "source": [
    "Splitting into three folders: Train, validation, Test. And setup hyper-parameters for tuning later."
   ]
  },
  {
   "cell_type": "code",
   "execution_count": 2,
   "metadata": {
    "_uuid": "f170af890f5bd8bba23780289290053ffba2acb1"
   },
   "outputs": [],
   "source": [
    "test_labels_dir = '../files/imagelabels.mat'\n",
    "benchmark_model_dir = '../models/benchmark_model.h5'\n",
    "best_model_dir = '../models/best_model.h5'\n",
    "final_model_dir = '../models/final_model.h5'\n",
    "data_dir = '../flower_data'\n",
    "\n",
    "# test_labels_dir = '../input/imagelabels.mat'\n",
    "# benchmark_model_dir = 'benchmark_model.h5'\n",
    "# best_model_dir = 'best_model.h5'\n",
    "# final_model_dir = 'final_model.h5'\n",
    "# data_dir = '../input/flower_data/flower_data'\n",
    "\n",
    "cat_to_name_dir = 'cat_to_name.json'\n",
    "TRAIN, VAL, TEST = 'train', 'valid', 'test'\n",
    "\n",
    "train_in_file = os.path.join(data_dir, TRAIN)\n",
    "valid_in_file = os.path.join(data_dir, VAL)\n",
    "test_in_file = os.path.join(data_dir, TEST)\n",
    "categories_in_file = os.path.join(data_dir, cat_to_name_dir)\n",
    "\n",
    "# Hyper-parameters\n",
    "input_size = (224, 224) # This size is dertermined by the size from VGG-19\n",
    "channels = 3 # RGB\n",
    "epochs = 30\n",
    "transform_ratio = 0.2 # For Data augmentation aggressiveness \n",
    "batch_size = 64\n",
    "rescale_ratio = 1.0 / 255.0 # (RGB)\n",
    "num_unfrozen_layers = 6 # for freezing layers later during Transfer Learning (we will create 6 custom layers)"
   ]
  },
  {
   "cell_type": "code",
   "execution_count": 3,
   "metadata": {
    "_uuid": "f170af890f5bd8bba23780289290053ffba2acb1"
   },
   "outputs": [],
   "source": [
    "# Save checkpoint in a target directory with accuracy\n",
    "def get_checkpoint(target_directory):\n",
    "     return ModelCheckpoint(\n",
    "        target_directory,\n",
    "        monitor='val_acc',\n",
    "        save_best_only=True,\n",
    "        verbose=1\n",
    "    )\n",
    "\n",
    "early_stopping = EarlyStopping(\n",
    "    monitor='val_acc',\n",
    "    mode='auto',\n",
    "    min_delta=0.0, # Tuning this parameter for smallest amount to be `improvement`\n",
    "    patience=5, # number of epochs with no improvement after which we stop\n",
    "    verbose=1\n",
    ")"
   ]
  },
  {
   "cell_type": "code",
   "execution_count": 4,
   "metadata": {},
   "outputs": [
    {
     "name": "stdout",
     "output_type": "stream",
     "text": [
      "Counter({77: 251, 73: 194, 89: 183, 81: 166, 88: 152, 46: 54})\n"
     ]
    }
   ],
   "source": [
    "test_labels = loadmat(test_labels_dir)['labels'][0][:1000]\n",
    "print(Counter(test_labels))"
   ]
  },
  {
   "cell_type": "markdown",
   "metadata": {
    "_uuid": "082a77bed1ee18f3cad445561977aae215cc973e"
   },
   "source": [
    "# Data augmentation\n",
    "\n",
    "Create Image generators for our flower data structure to have more options for our training model."
   ]
  },
  {
   "cell_type": "code",
   "execution_count": 5,
   "metadata": {
    "_uuid": "d5466f3aab235f89462e99a4309ca71c4d27e7f3"
   },
   "outputs": [],
   "source": [
    "## Augmentation configuration is applied to Image Data Generator for training\n",
    "train_datagen = ImageDataGenerator(\n",
    "    preprocessing_function=preprocess_input,\n",
    "    horizontal_flip=True,\n",
    "    rescale=rescale_ratio,\n",
    "    rotation_range=25,\n",
    "    zoom_range=transform_ratio,\n",
    "    shear_range=transform_ratio,\n",
    "    cval=transform_ratio,\n",
    "    fill_mode='nearest'\n",
    ")\n",
    "valid_datagen = ImageDataGenerator(\n",
    "    preprocessing_function=preprocess_input,\n",
    "    horizontal_flip=True,\n",
    "    rescale=rescale_ratio,\n",
    "    rotation_range=25,\n",
    "    zoom_range=transform_ratio,\n",
    "    shear_range=transform_ratio,\n",
    "    cval=transform_ratio,\n",
    "    fill_mode='nearest'\n",
    ")\n",
    "test_datagen = ImageDataGenerator(\n",
    "    preprocessing_function=preprocess_input\n",
    ")"
   ]
  },
  {
   "cell_type": "code",
   "execution_count": 6,
   "metadata": {
    "_uuid": "d5466f3aab235f89462e99a4309ca71c4d27e7f3"
   },
   "outputs": [
    {
     "name": "stdout",
     "output_type": "stream",
     "text": [
      "Found 6552 images belonging to 102 classes.\n",
      "Found 818 images belonging to 102 classes.\n",
      "Found 819 images belonging to 1 classes.\n"
     ]
    }
   ],
   "source": [
    "## Create Data generators for each folders, loading from given directories\n",
    "train_generator = train_datagen.flow_from_directory(\n",
    "    directory=train_in_file,\n",
    "    target_size=input_size,\n",
    "    color_mode=\"rgb\",\n",
    "    batch_size=batch_size,\n",
    "    class_mode=\"categorical\", # Since we have more then 2 classes to predict\n",
    ")\n",
    "\n",
    "valid_generator = valid_datagen.flow_from_directory(\n",
    "    directory=valid_in_file,\n",
    "    target_size=input_size,\n",
    "    color_mode=\"rgb\",\n",
    "    batch_size=batch_size,\n",
    "    class_mode=\"categorical\",\n",
    "    shuffle=False,\n",
    ")\n",
    "\n",
    "test_generator = test_datagen.flow_from_directory(\n",
    "    directory=test_in_file,\n",
    "    target_size=input_size,\n",
    "    color_mode=\"rgb\",\n",
    "    batch_size=91, # A number which divides total number of test images\n",
    "    class_mode=None, # To return only the images\n",
    "    shuffle=False # Set to False to make the images are tested in order\n",
    ")"
   ]
  },
  {
   "cell_type": "code",
   "execution_count": 7,
   "metadata": {
    "_uuid": "d5466f3aab235f89462e99a4309ca71c4d27e7f3"
   },
   "outputs": [],
   "source": [
    "## Step sizes to fit and train our model later\n",
    "train_step_size = train_generator.n // train_generator.batch_size\n",
    "valid_step_size = valid_generator.n // valid_generator.batch_size"
   ]
  },
  {
   "cell_type": "markdown",
   "metadata": {
    "_uuid": "77c3fe658ab8ffb8466b2d3680907542953c6441"
   },
   "source": [
    "# Benchmark model\n",
    "Using a very simple custom CNN to make sure our data was loaded correctly and working properly."
   ]
  },
  {
   "cell_type": "code",
   "execution_count": 8,
   "metadata": {
    "_uuid": "badbdfb05fc0d3d1843567c75d06a27b8dfc5a2f"
   },
   "outputs": [],
   "source": [
    "bench_model = Sequential()\n",
    "bench_model.add(Conv2D(256, kernel_size=2, input_shape=(224, 224, 3), activation='relu'))\n",
    "bench_model.add(GlobalAveragePooling2D())\n",
    "bench_model.add(Dropout(0.5))\n",
    "bench_model.add(Dense(128, activation='relu'))\n",
    "bench_model.add(Dropout(0.2))\n",
    "bench_model.add(Dense(train_generator.num_classes, activation='softmax'))"
   ]
  },
  {
   "cell_type": "code",
   "execution_count": 9,
   "metadata": {
    "_uuid": "7275baf4856912f5742648ba26c5cc1186765d18"
   },
   "outputs": [
    {
     "name": "stdout",
     "output_type": "stream",
     "text": [
      "_________________________________________________________________\n",
      "Layer (type)                 Output Shape              Param #   \n",
      "=================================================================\n",
      "conv2d_1_input (InputLayer)  (None, 224, 224, 3)       0         \n",
      "_________________________________________________________________\n",
      "conv2d_1 (Conv2D)            (None, 223, 223, 256)     3328      \n",
      "_________________________________________________________________\n",
      "global_average_pooling2d_1 ( (None, 256)               0         \n",
      "_________________________________________________________________\n",
      "dropout_1 (Dropout)          (None, 256)               0         \n",
      "_________________________________________________________________\n",
      "dense_1 (Dense)              (None, 128)               32896     \n",
      "_________________________________________________________________\n",
      "dropout_2 (Dropout)          (None, 128)               0         \n",
      "_________________________________________________________________\n",
      "dense_2 (Dense)              (None, 102)               13158     \n",
      "=================================================================\n",
      "Total params: 49,382\n",
      "Trainable params: 49,382\n",
      "Non-trainable params: 0\n",
      "_________________________________________________________________\n"
     ]
    }
   ],
   "source": [
    "## Create our main model\n",
    "predicted_model = Model(inputs=bench_model.input, outputs=bench_model.output)\n",
    "predicted_model.summary()"
   ]
  },
  {
   "cell_type": "code",
   "execution_count": 10,
   "metadata": {
    "_uuid": "96881d252d136299a9af3c8ee2ab9288c1a7fc37"
   },
   "outputs": [],
   "source": [
    "## Compile our model\n",
    "predicted_model.compile(\n",
    "    loss='categorical_crossentropy', # Since we have multi-class categories in our dataset\n",
    "    optimizer=optimizers.adam(1e-3),\n",
    "    metrics=['accuracy']\n",
    ")\n",
    "\n",
    "## Getting callbacks\n",
    "checkpoint = get_checkpoint(benchmark_model_dir)\n",
    "callbacks = [checkpoint, early_stopping]"
   ]
  },
  {
   "cell_type": "code",
   "execution_count": 11,
   "metadata": {
    "_uuid": "098514c29f4a725c7f96311d6b805b8d9cf360a5"
   },
   "outputs": [
    {
     "name": "stdout",
     "output_type": "stream",
     "text": [
      "Epoch 1/5\n",
      "102/102 [==============================] - 112s 1s/step - loss: 4.5226 - acc: 0.0337 - val_loss: 4.3570 - val_acc: 0.0651\n",
      "\n",
      "Epoch 00001: val_acc improved from -inf to 0.06510, saving model to benchmark_model.h5\n",
      "Epoch 2/5\n",
      "102/102 [==============================] - 96s 939ms/step - loss: 4.1646 - acc: 0.0709 - val_loss: 3.9714 - val_acc: 0.0809\n",
      "\n",
      "Epoch 00002: val_acc improved from 0.06510 to 0.08090, saving model to benchmark_model.h5\n",
      "Epoch 3/5\n",
      "102/102 [==============================] - 98s 957ms/step - loss: 3.8846 - acc: 0.0848 - val_loss: 3.7219 - val_acc: 0.1127\n",
      "\n",
      "Epoch 00003: val_acc improved from 0.08090 to 0.11273, saving model to benchmark_model.h5\n",
      "Epoch 4/5\n",
      "102/102 [==============================] - 96s 941ms/step - loss: 3.7433 - acc: 0.0962 - val_loss: 3.6769 - val_acc: 0.0981\n",
      "\n",
      "Epoch 00004: val_acc did not improve from 0.11273\n",
      "Epoch 5/5\n",
      "102/102 [==============================] - 95s 933ms/step - loss: 3.6700 - acc: 0.1083 - val_loss: 3.5988 - val_acc: 0.1061\n",
      "\n",
      "Epoch 00005: val_acc did not improve from 0.11273\n"
     ]
    }
   ],
   "source": [
    "## Training model\n",
    "training_history = predicted_model.fit_generator(\n",
    "    train_generator,\n",
    "    validation_data=valid_generator,\n",
    "    steps_per_epoch=train_step_size,\n",
    "    validation_steps=valid_step_size,\n",
    "    epochs=epochs // 6,\n",
    "    verbose=1,\n",
    "    callbacks=callbacks\n",
    ")"
   ]
  },
  {
   "cell_type": "markdown",
   "metadata": {},
   "source": [
    "As expected, a benchmark model built with simple architecture containing only a few Dense layers is definitely not enough to produce good result, since this model knows nothing about our current dataset. \n",
    "\n",
    "We will need a model with more knowledge on lower levels, to extract the foundation features out from the given images, using a pre-trained model such as VGG-19, which has already been trained on ImageNet through 1000 images. This way we can modify this pre-trained model using Transfer Learning technique to solve our unique problem with customized Dense layers."
   ]
  },
  {
   "cell_type": "markdown",
   "metadata": {
    "_uuid": "319f1916a9a09f39efccef247d6e44ae31d7e8f1"
   },
   "source": [
    "## Model creation - VGG-19 Transfer Learning"
   ]
  },
  {
   "cell_type": "markdown",
   "metadata": {},
   "source": [
    "Download VGG-19 with pre-trained weights from ImageNet. We then exclude its top layer since we want to predict our own 102 different categories of flower."
   ]
  },
  {
   "cell_type": "code",
   "execution_count": 8,
   "metadata": {
    "_uuid": "9133bb8e7dc182364fd31a19f39a307e60225047",
    "scrolled": false
   },
   "outputs": [
    {
     "name": "stderr",
     "output_type": "stream",
     "text": [
      "/Users/KhangVu/Documents/Development/git_project/Machine Learning/NanoDegree/submissions/Capstone-ML/capstone_env/lib/python3.7/site-packages/keras/utils/conv_utils.py:82: FutureWarning: Using a non-tuple sequence for multidimensional indexing is deprecated; use `arr[tuple(seq)]` instead of `arr[seq]`. In the future this will be interpreted as an array index, `arr[np.array(seq)]`, which will result either in an error or a different result.\n",
      "  return np.copy(kernel[slices])\n"
     ]
    }
   ],
   "source": [
    "base_model = VGG19(\n",
    "    weights='imagenet',\n",
    "    include_top=False,\n",
    "    input_shape=(input_size[0], input_size[1], channels)\n",
    ")"
   ]
  },
  {
   "cell_type": "code",
   "execution_count": 9,
   "metadata": {
    "_uuid": "bdc375dcb5c25907f39c4e5a9219c576d7598be7"
   },
   "outputs": [],
   "source": [
    "def inspect_model(model):\n",
    "    for index, layer in enumerate(base_model.layers):\n",
    "        print('Layer #{}: {} - Trainable: {}\\nWeights: {}\\n'.format(index, layer, layer.trainable, layer.trainable_weights))"
   ]
  },
  {
   "cell_type": "code",
   "execution_count": 10,
   "metadata": {
    "_uuid": "fbf4b7a29ed032d016254fc6169cea6dc87ae21b"
   },
   "outputs": [
    {
     "name": "stdout",
     "output_type": "stream",
     "text": [
      "Layer #0: <keras.engine.input_layer.InputLayer object at 0x110d70dd8> - Trainable: False\n",
      "Weights: []\n",
      "\n",
      "Layer #1: <keras.layers.convolutional.Conv2D object at 0x122993d68> - Trainable: True\n",
      "Weights: [block1_conv1/kernel, block1_conv1/bias]\n",
      "\n",
      "Layer #2: <keras.layers.convolutional.Conv2D object at 0x110d952b0> - Trainable: True\n",
      "Weights: [block1_conv2/kernel, block1_conv2/bias]\n",
      "\n",
      "Layer #3: <keras.layers.pooling.MaxPooling2D object at 0x124343630> - Trainable: True\n",
      "Weights: []\n",
      "\n",
      "Layer #4: <keras.layers.convolutional.Conv2D object at 0x124429748> - Trainable: True\n",
      "Weights: [block2_conv1/kernel, block2_conv1/bias]\n",
      "\n",
      "Layer #5: <keras.layers.convolutional.Conv2D object at 0x12447c208> - Trainable: True\n",
      "Weights: [block2_conv2/kernel, block2_conv2/bias]\n",
      "\n",
      "Layer #6: <keras.layers.pooling.MaxPooling2D object at 0x1244ec5c0> - Trainable: True\n",
      "Weights: []\n",
      "\n",
      "Layer #7: <keras.layers.convolutional.Conv2D object at 0x1244f7e48> - Trainable: True\n",
      "Weights: [block3_conv1/kernel, block3_conv1/bias]\n",
      "\n",
      "Layer #8: <keras.layers.convolutional.Conv2D object at 0x121e764a8> - Trainable: True\n",
      "Weights: [block3_conv2/kernel, block3_conv2/bias]\n",
      "\n",
      "Layer #9: <keras.layers.convolutional.Conv2D object at 0x124775780> - Trainable: True\n",
      "Weights: [block3_conv3/kernel, block3_conv3/bias]\n",
      "\n",
      "Layer #10: <keras.layers.convolutional.Conv2D object at 0x124dd1c50> - Trainable: True\n",
      "Weights: [block3_conv4/kernel, block3_conv4/bias]\n",
      "\n",
      "Layer #11: <keras.layers.pooling.MaxPooling2D object at 0x124dd8f28> - Trainable: True\n",
      "Weights: []\n",
      "\n",
      "Layer #12: <keras.layers.convolutional.Conv2D object at 0x1253d00f0> - Trainable: True\n",
      "Weights: [block4_conv1/kernel, block4_conv1/bias]\n",
      "\n",
      "Layer #13: <keras.layers.convolutional.Conv2D object at 0x1253ca518> - Trainable: True\n",
      "Weights: [block4_conv2/kernel, block4_conv2/bias]\n",
      "\n",
      "Layer #14: <keras.layers.convolutional.Conv2D object at 0x125486198> - Trainable: True\n",
      "Weights: [block4_conv3/kernel, block4_conv3/bias]\n",
      "\n",
      "Layer #15: <keras.layers.convolutional.Conv2D object at 0x125e5c748> - Trainable: True\n",
      "Weights: [block4_conv4/kernel, block4_conv4/bias]\n",
      "\n",
      "Layer #16: <keras.layers.pooling.MaxPooling2D object at 0x127107278> - Trainable: True\n",
      "Weights: []\n",
      "\n",
      "Layer #17: <keras.layers.convolutional.Conv2D object at 0x1270d8c88> - Trainable: True\n",
      "Weights: [block5_conv1/kernel, block5_conv1/bias]\n",
      "\n",
      "Layer #18: <keras.layers.convolutional.Conv2D object at 0x1253f3710> - Trainable: True\n",
      "Weights: [block5_conv2/kernel, block5_conv2/bias]\n",
      "\n",
      "Layer #19: <keras.layers.convolutional.Conv2D object at 0x1284559e8> - Trainable: True\n",
      "Weights: [block5_conv3/kernel, block5_conv3/bias]\n",
      "\n",
      "Layer #20: <keras.layers.convolutional.Conv2D object at 0x128e1aa90> - Trainable: True\n",
      "Weights: [block5_conv4/kernel, block5_conv4/bias]\n",
      "\n",
      "Layer #21: <keras.layers.pooling.MaxPooling2D object at 0x1297eeba8> - Trainable: True\n",
      "Weights: []\n",
      "\n"
     ]
    }
   ],
   "source": [
    "inspect_model(base_model)"
   ]
  },
  {
   "cell_type": "code",
   "execution_count": 11,
   "metadata": {
    "_uuid": "72887398c3852ca0d574048f6f068a50dad0e1a9"
   },
   "outputs": [],
   "source": [
    "############################################################################\n",
    "# Since our data is similar to images in ImageNet database, and it\n",
    "# can be considered as small (only few thousands of images in total),\n",
    "# we can freeze the all the layers except the fully-connected (FC) layers\n",
    "# since we can expect the higher-level featuers in the pre-trained model\n",
    "# to be relevant to our data, so we only train them (the FC layers).\n",
    "############################################################################\n",
    "\n",
    "## Here we train only the top layers by freezing all the layers that are already pre-trained\n",
    "for layer in base_model.layers:\n",
    "    layer.trainable = False\n",
    "    \n",
    "# Now add some custom layers into our model\n",
    "net = Flatten(name='flatten')(base_model.output)\n",
    "net = Dense(4096, activation='relu')(net)\n",
    "net = Dropout(0.5)(net)\n",
    "net = Dense(4096, activation='relu', \n",
    "            activity_regularizer=regularizers.l1_l2(l1=0.01, l2=0.01))(net)\n",
    "net = Dropout(0.5)(net)\n",
    "net = Dense(train_generator.num_classes, \n",
    "            activation='softmax')(net) # 102 output classes"
   ]
  },
  {
   "cell_type": "code",
   "execution_count": 12,
   "metadata": {
    "_uuid": "72887398c3852ca0d574048f6f068a50dad0e1a9"
   },
   "outputs": [
    {
     "name": "stdout",
     "output_type": "stream",
     "text": [
      "_________________________________________________________________\n",
      "Layer (type)                 Output Shape              Param #   \n",
      "=================================================================\n",
      "input_1 (InputLayer)         (None, 224, 224, 3)       0         \n",
      "_________________________________________________________________\n",
      "block1_conv1 (Conv2D)        (None, 224, 224, 64)      1792      \n",
      "_________________________________________________________________\n",
      "block1_conv2 (Conv2D)        (None, 224, 224, 64)      36928     \n",
      "_________________________________________________________________\n",
      "block1_pool (MaxPooling2D)   (None, 112, 112, 64)      0         \n",
      "_________________________________________________________________\n",
      "block2_conv1 (Conv2D)        (None, 112, 112, 128)     73856     \n",
      "_________________________________________________________________\n",
      "block2_conv2 (Conv2D)        (None, 112, 112, 128)     147584    \n",
      "_________________________________________________________________\n",
      "block2_pool (MaxPooling2D)   (None, 56, 56, 128)       0         \n",
      "_________________________________________________________________\n",
      "block3_conv1 (Conv2D)        (None, 56, 56, 256)       295168    \n",
      "_________________________________________________________________\n",
      "block3_conv2 (Conv2D)        (None, 56, 56, 256)       590080    \n",
      "_________________________________________________________________\n",
      "block3_conv3 (Conv2D)        (None, 56, 56, 256)       590080    \n",
      "_________________________________________________________________\n",
      "block3_conv4 (Conv2D)        (None, 56, 56, 256)       590080    \n",
      "_________________________________________________________________\n",
      "block3_pool (MaxPooling2D)   (None, 28, 28, 256)       0         \n",
      "_________________________________________________________________\n",
      "block4_conv1 (Conv2D)        (None, 28, 28, 512)       1180160   \n",
      "_________________________________________________________________\n",
      "block4_conv2 (Conv2D)        (None, 28, 28, 512)       2359808   \n",
      "_________________________________________________________________\n",
      "block4_conv3 (Conv2D)        (None, 28, 28, 512)       2359808   \n",
      "_________________________________________________________________\n",
      "block4_conv4 (Conv2D)        (None, 28, 28, 512)       2359808   \n",
      "_________________________________________________________________\n",
      "block4_pool (MaxPooling2D)   (None, 14, 14, 512)       0         \n",
      "_________________________________________________________________\n",
      "block5_conv1 (Conv2D)        (None, 14, 14, 512)       2359808   \n",
      "_________________________________________________________________\n",
      "block5_conv2 (Conv2D)        (None, 14, 14, 512)       2359808   \n",
      "_________________________________________________________________\n",
      "block5_conv3 (Conv2D)        (None, 14, 14, 512)       2359808   \n",
      "_________________________________________________________________\n",
      "block5_conv4 (Conv2D)        (None, 14, 14, 512)       2359808   \n",
      "_________________________________________________________________\n",
      "block5_pool (MaxPooling2D)   (None, 7, 7, 512)         0         \n",
      "_________________________________________________________________\n",
      "flatten (Flatten)            (None, 25088)             0         \n",
      "_________________________________________________________________\n",
      "dense_1 (Dense)              (None, 4096)              102764544 \n",
      "_________________________________________________________________\n",
      "dropout_1 (Dropout)          (None, 4096)              0         \n",
      "_________________________________________________________________\n",
      "dense_2 (Dense)              (None, 4096)              16781312  \n",
      "_________________________________________________________________\n",
      "dropout_2 (Dropout)          (None, 4096)              0         \n",
      "_________________________________________________________________\n",
      "dense_3 (Dense)              (None, 102)               417894    \n",
      "=================================================================\n",
      "Total params: 139,988,134\n",
      "Trainable params: 119,963,750\n",
      "Non-trainable params: 20,024,384\n",
      "_________________________________________________________________\n",
      "Layer #0: <keras.engine.input_layer.InputLayer object at 0x110d70dd8> - Trainable: False\n",
      "Weights: []\n",
      "\n",
      "Layer #1: <keras.layers.convolutional.Conv2D object at 0x122993d68> - Trainable: False\n",
      "Weights: []\n",
      "\n",
      "Layer #2: <keras.layers.convolutional.Conv2D object at 0x110d952b0> - Trainable: False\n",
      "Weights: []\n",
      "\n",
      "Layer #3: <keras.layers.pooling.MaxPooling2D object at 0x124343630> - Trainable: False\n",
      "Weights: []\n",
      "\n",
      "Layer #4: <keras.layers.convolutional.Conv2D object at 0x124429748> - Trainable: False\n",
      "Weights: []\n",
      "\n",
      "Layer #5: <keras.layers.convolutional.Conv2D object at 0x12447c208> - Trainable: False\n",
      "Weights: []\n",
      "\n",
      "Layer #6: <keras.layers.pooling.MaxPooling2D object at 0x1244ec5c0> - Trainable: False\n",
      "Weights: []\n",
      "\n",
      "Layer #7: <keras.layers.convolutional.Conv2D object at 0x1244f7e48> - Trainable: False\n",
      "Weights: []\n",
      "\n",
      "Layer #8: <keras.layers.convolutional.Conv2D object at 0x121e764a8> - Trainable: False\n",
      "Weights: []\n",
      "\n",
      "Layer #9: <keras.layers.convolutional.Conv2D object at 0x124775780> - Trainable: False\n",
      "Weights: []\n",
      "\n",
      "Layer #10: <keras.layers.convolutional.Conv2D object at 0x124dd1c50> - Trainable: False\n",
      "Weights: []\n",
      "\n",
      "Layer #11: <keras.layers.pooling.MaxPooling2D object at 0x124dd8f28> - Trainable: False\n",
      "Weights: []\n",
      "\n",
      "Layer #12: <keras.layers.convolutional.Conv2D object at 0x1253d00f0> - Trainable: False\n",
      "Weights: []\n",
      "\n",
      "Layer #13: <keras.layers.convolutional.Conv2D object at 0x1253ca518> - Trainable: False\n",
      "Weights: []\n",
      "\n",
      "Layer #14: <keras.layers.convolutional.Conv2D object at 0x125486198> - Trainable: False\n",
      "Weights: []\n",
      "\n",
      "Layer #15: <keras.layers.convolutional.Conv2D object at 0x125e5c748> - Trainable: False\n",
      "Weights: []\n",
      "\n",
      "Layer #16: <keras.layers.pooling.MaxPooling2D object at 0x127107278> - Trainable: False\n",
      "Weights: []\n",
      "\n",
      "Layer #17: <keras.layers.convolutional.Conv2D object at 0x1270d8c88> - Trainable: False\n",
      "Weights: []\n",
      "\n",
      "Layer #18: <keras.layers.convolutional.Conv2D object at 0x1253f3710> - Trainable: False\n",
      "Weights: []\n",
      "\n",
      "Layer #19: <keras.layers.convolutional.Conv2D object at 0x1284559e8> - Trainable: False\n",
      "Weights: []\n",
      "\n",
      "Layer #20: <keras.layers.convolutional.Conv2D object at 0x128e1aa90> - Trainable: False\n",
      "Weights: []\n",
      "\n",
      "Layer #21: <keras.layers.pooling.MaxPooling2D object at 0x1297eeba8> - Trainable: False\n",
      "Weights: []\n",
      "\n"
     ]
    }
   ],
   "source": [
    "# Create our main model\n",
    "predicted_model = Model(inputs=base_model.input, outputs=net)\n",
    "predicted_model.summary()\n",
    "inspect_model(base_model)"
   ]
  },
  {
   "cell_type": "code",
   "execution_count": 13,
   "metadata": {
    "_uuid": "24ef8b5b580400e312a559d36bdb72b529f94e23"
   },
   "outputs": [],
   "source": [
    "# Compile our model\n",
    "predicted_model.compile(\n",
    "    loss='categorical_crossentropy', # Since we have multi-class categories in our dataset\n",
    "    optimizer=optimizers.adam(1e-5),\n",
    "    metrics=['accuracy']\n",
    ")\n",
    "\n",
    "checkpoint = get_checkpoint(best_model_dir)\n",
    "callbacks = [checkpoint, early_stopping]"
   ]
  },
  {
   "cell_type": "markdown",
   "metadata": {
    "_uuid": "c07d383a7eb61ed601c556dd5010abcd9116becb"
   },
   "source": [
    "## Training model (Simple version - freezing all convolutional layers)"
   ]
  },
  {
   "cell_type": "code",
   "execution_count": 18,
   "metadata": {
    "_uuid": "a6db1cea1ed6e923182389b95dad1a39f3d4980d",
    "scrolled": false
   },
   "outputs": [
    {
     "name": "stdout",
     "output_type": "stream",
     "text": [
      "Epoch 1/10\n",
      "102/102 [==============================] - 101s 991ms/step - loss: 4.6744 - acc: 0.0340 - val_loss: 4.2043 - val_acc: 0.1008\n",
      "\n",
      "Epoch 00001: val_acc improved from -inf to 0.10080, saving model to best_model.h5\n",
      "Epoch 2/10\n",
      "102/102 [==============================] - 99s 967ms/step - loss: 4.2389 - acc: 0.0880 - val_loss: 3.7762 - val_acc: 0.2202\n",
      "\n",
      "Epoch 00002: val_acc improved from 0.10080 to 0.22016, saving model to best_model.h5\n",
      "Epoch 3/10\n",
      "102/102 [==============================] - 99s 970ms/step - loss: 3.8994 - acc: 0.1526 - val_loss: 3.3822 - val_acc: 0.3103\n",
      "\n",
      "Epoch 00003: val_acc improved from 0.22016 to 0.31034, saving model to best_model.h5\n",
      "Epoch 4/10\n",
      "102/102 [==============================] - 99s 969ms/step - loss: 3.5211 - acc: 0.2276 - val_loss: 2.9789 - val_acc: 0.3700\n",
      "\n",
      "Epoch 00004: val_acc improved from 0.31034 to 0.37003, saving model to best_model.h5\n",
      "Epoch 5/10\n",
      "102/102 [==============================] - 102s 997ms/step - loss: 3.2051 - acc: 0.2813 - val_loss: 2.6329 - val_acc: 0.4655\n",
      "\n",
      "Epoch 00005: val_acc improved from 0.37003 to 0.46552, saving model to best_model.h5\n",
      "Epoch 6/10\n",
      "102/102 [==============================] - 100s 976ms/step - loss: 2.8858 - acc: 0.3485 - val_loss: 2.2509 - val_acc: 0.5199\n",
      "\n",
      "Epoch 00006: val_acc improved from 0.46552 to 0.51989, saving model to best_model.h5\n",
      "Epoch 7/10\n",
      "102/102 [==============================] - 101s 988ms/step - loss: 2.6494 - acc: 0.3895 - val_loss: 1.9501 - val_acc: 0.5743\n",
      "\n",
      "Epoch 00007: val_acc improved from 0.51989 to 0.57427, saving model to best_model.h5\n",
      "Epoch 8/10\n",
      "102/102 [==============================] - 103s 1s/step - loss: 2.3842 - acc: 0.4407 - val_loss: 1.7946 - val_acc: 0.6141\n",
      "\n",
      "Epoch 00008: val_acc improved from 0.57427 to 0.61406, saving model to best_model.h5\n",
      "Epoch 9/10\n",
      "102/102 [==============================] - 99s 973ms/step - loss: 2.1941 - acc: 0.4754 - val_loss: 1.5697 - val_acc: 0.6605\n",
      "\n",
      "Epoch 00009: val_acc improved from 0.61406 to 0.66048, saving model to best_model.h5\n",
      "Epoch 10/10\n",
      "102/102 [==============================] - 100s 978ms/step - loss: 2.0538 - acc: 0.5050 - val_loss: 1.4559 - val_acc: 0.6758\n",
      "\n",
      "Epoch 00010: val_acc improved from 0.66048 to 0.67578, saving model to best_model.h5\n"
     ]
    }
   ],
   "source": [
    "training_history = predicted_model.fit_generator(\n",
    "    train_generator,\n",
    "    validation_data=valid_generator,\n",
    "    steps_per_epoch=train_step_size,\n",
    "    validation_steps=valid_step_size,\n",
    "    epochs=int(epochs * 1/3),\n",
    "    verbose=1,\n",
    "    callbacks=callbacks\n",
    ")"
   ]
  },
  {
   "cell_type": "markdown",
   "metadata": {
    "_uuid": "f936cfb3ae700e46675fbcccce3e44bb7cda9276"
   },
   "source": [
    "## Losses Visualization"
   ]
  },
  {
   "cell_type": "code",
   "execution_count": 19,
   "metadata": {
    "_uuid": "1fbc1f83e9b45ab81d94d78c84f5565546f2c8ee"
   },
   "outputs": [],
   "source": [
    "def plot_model(trainning_history):\n",
    "    train_accuracy = training_history.history['acc']\n",
    "    val_accuracy = training_history.history['val_acc']\n",
    "    \n",
    "    train_loss = training_history.history['loss']\n",
    "    val_loss = training_history.history['val_loss']\n",
    "    \n",
    "    num_epochs = range(len(train_accuracy))\n",
    "    plt.plot(num_epochs, train_accuracy, 'g', label='Training')\n",
    "    plt.plot(num_epochs, val_accuracy, 'r', label='Validation')\n",
    "    plt.xlabel('epoch')\n",
    "    plt.ylabel('accuracy')\n",
    "    plt.legend()\n",
    "    \n",
    "    plt.figure()\n",
    "    \n",
    "    plt.plot(num_epochs, train_loss, 'b', label='Training')\n",
    "    plt.plot(num_epochs, val_loss, 'r', label='Validation')\n",
    "    plt.xlabel('epoch')\n",
    "    plt.ylabel('loss')\n",
    "    plt.legend()\n",
    "    \n",
    "    plt.show()"
   ]
  },
  {
   "cell_type": "code",
   "execution_count": 20,
   "metadata": {
    "_uuid": "09503c5c4ee4d07a762e62bb7133a6384fade3ae"
   },
   "outputs": [
    {
     "data": {
      "image/png": "[encoded data removed]",
      "text/plain": [
       "<Figure size 432x288 with 1 Axes>"
      ]
     },
     "metadata": {},
     "output_type": "display_data"
    },
    {
     "data": {
      "image/png": "[encoded data removed]",
      "text/plain": [
       "<Figure size 432x288 with 1 Axes>"
      ]
     },
     "metadata": {},
     "output_type": "display_data"
    }
   ],
   "source": [
    "plot_model(training_history)"
   ]
  },
  {
   "cell_type": "markdown",
   "metadata": {
    "_uuid": "2cc13141334c32c42bc25ffe8e1b8d8c7b4f8060"
   },
   "source": [
    "## Loading checkpoint with best weights for our model and fine-tune"
   ]
  },
  {
   "cell_type": "code",
   "execution_count": 20,
   "metadata": {
    "_kg_hide-input": false,
    "_kg_hide-output": false,
    "_uuid": "33ebfcbd490f010a8e42bd90e483538312182373",
    "scrolled": true
   },
   "outputs": [
    {
     "name": "stderr",
     "output_type": "stream",
     "text": [
      "/Users/KhangVu/Documents/Development/git_project/Machine Learning/NanoDegree/submissions/Capstone-ML/capstone_env/lib/python3.7/site-packages/keras/utils/conv_utils.py:82: FutureWarning: Using a non-tuple sequence for multidimensional indexing is deprecated; use `arr[tuple(seq)]` instead of `arr[seq]`. In the future this will be interpreted as an array index, `arr[np.array(seq)]`, which will result either in an error or a different result.\n",
      "  return np.copy(kernel[slices])\n"
     ]
    }
   ],
   "source": [
    "predicted_model.load_weights(best_model_dir)"
   ]
  },
  {
   "cell_type": "code",
   "execution_count": 21,
   "metadata": {
    "_uuid": "116494306ac45b414a8dc27cab09af6aa71833f5"
   },
   "outputs": [
    {
     "name": "stdout",
     "output_type": "stream",
     "text": [
      "Layer #0: <keras.engine.input_layer.InputLayer object at 0x111621e48> - Trainable: False\n",
      "Weights: []\n",
      "\n",
      "Layer #1: <keras.layers.convolutional.Conv2D object at 0x12a71d048> - Trainable: False\n",
      "Weights: []\n",
      "\n",
      "Layer #2: <keras.layers.convolutional.Conv2D object at 0x1251870f0> - Trainable: False\n",
      "Weights: []\n",
      "\n",
      "Layer #3: <keras.layers.pooling.MaxPooling2D object at 0x12521e240> - Trainable: False\n",
      "Weights: []\n",
      "\n",
      "Layer #4: <keras.layers.convolutional.Conv2D object at 0x12523ef60> - Trainable: False\n",
      "Weights: []\n",
      "\n",
      "Layer #5: <keras.layers.convolutional.Conv2D object at 0x125269710> - Trainable: False\n",
      "Weights: []\n",
      "\n",
      "Layer #6: <keras.layers.pooling.MaxPooling2D object at 0x1252696a0> - Trainable: False\n",
      "Weights: []\n",
      "\n",
      "Layer #7: <keras.layers.convolutional.Conv2D object at 0x124b387f0> - Trainable: False\n",
      "Weights: []\n",
      "\n",
      "Layer #8: <keras.layers.convolutional.Conv2D object at 0x1247f9828> - Trainable: False\n",
      "Weights: []\n",
      "\n",
      "Layer #9: <keras.layers.convolutional.Conv2D object at 0x125660550> - Trainable: False\n",
      "Weights: []\n",
      "\n",
      "Layer #10: <keras.layers.convolutional.Conv2D object at 0x1254697f0> - Trainable: False\n",
      "Weights: []\n",
      "\n",
      "Layer #11: <keras.layers.pooling.MaxPooling2D object at 0x12523e358> - Trainable: False\n",
      "Weights: []\n",
      "\n",
      "Layer #12: <keras.layers.convolutional.Conv2D object at 0x12801b3c8> - Trainable: False\n",
      "Weights: []\n",
      "\n",
      "Layer #13: <keras.layers.convolutional.Conv2D object at 0x12641d208> - Trainable: False\n",
      "Weights: []\n",
      "\n",
      "Layer #14: <keras.layers.convolutional.Conv2D object at 0x125478198> - Trainable: False\n",
      "Weights: []\n",
      "\n",
      "Layer #15: <keras.layers.convolutional.Conv2D object at 0x124aa4d30> - Trainable: False\n",
      "Weights: []\n",
      "\n",
      "Layer #16: <keras.layers.pooling.MaxPooling2D object at 0x124c3eb70> - Trainable: False\n",
      "Weights: []\n",
      "\n",
      "Layer #17: <keras.layers.convolutional.Conv2D object at 0x1280317b8> - Trainable: True\n",
      "Weights: [block5_conv1/kernel, block5_conv1/bias]\n",
      "\n",
      "Layer #18: <keras.layers.convolutional.Conv2D object at 0x127f8c208> - Trainable: True\n",
      "Weights: [block5_conv2/kernel, block5_conv2/bias]\n",
      "\n",
      "Layer #19: <keras.layers.convolutional.Conv2D object at 0x125603fd0> - Trainable: True\n",
      "Weights: [block5_conv3/kernel, block5_conv3/bias]\n",
      "\n",
      "Layer #20: <keras.layers.convolutional.Conv2D object at 0x12559a710> - Trainable: True\n",
      "Weights: [block5_conv4/kernel, block5_conv4/bias]\n",
      "\n",
      "Layer #21: <keras.layers.pooling.MaxPooling2D object at 0x124aed278> - Trainable: True\n",
      "Weights: []\n",
      "\n"
     ]
    },
    {
     "data": {
      "text/plain": [
       "[<keras.engine.input_layer.InputLayer at 0x111621e48>,\n",
       " <keras.layers.convolutional.Conv2D at 0x12a71d048>,\n",
       " <keras.layers.convolutional.Conv2D at 0x1251870f0>,\n",
       " <keras.layers.pooling.MaxPooling2D at 0x12521e240>,\n",
       " <keras.layers.convolutional.Conv2D at 0x12523ef60>,\n",
       " <keras.layers.convolutional.Conv2D at 0x125269710>,\n",
       " <keras.layers.pooling.MaxPooling2D at 0x1252696a0>,\n",
       " <keras.layers.convolutional.Conv2D at 0x124b387f0>,\n",
       " <keras.layers.convolutional.Conv2D at 0x1247f9828>,\n",
       " <keras.layers.convolutional.Conv2D at 0x125660550>,\n",
       " <keras.layers.convolutional.Conv2D at 0x1254697f0>,\n",
       " <keras.layers.pooling.MaxPooling2D at 0x12523e358>,\n",
       " <keras.layers.convolutional.Conv2D at 0x12801b3c8>,\n",
       " <keras.layers.convolutional.Conv2D at 0x12641d208>,\n",
       " <keras.layers.convolutional.Conv2D at 0x125478198>,\n",
       " <keras.layers.convolutional.Conv2D at 0x124aa4d30>,\n",
       " <keras.layers.pooling.MaxPooling2D at 0x124c3eb70>,\n",
       " <keras.layers.convolutional.Conv2D at 0x1280317b8>,\n",
       " <keras.layers.convolutional.Conv2D at 0x127f8c208>,\n",
       " <keras.layers.convolutional.Conv2D at 0x125603fd0>,\n",
       " <keras.layers.convolutional.Conv2D at 0x12559a710>,\n",
       " <keras.layers.pooling.MaxPooling2D at 0x124aed278>,\n",
       " <keras.layers.core.Flatten at 0x124afe0f0>,\n",
       " <keras.layers.core.Dense at 0x124afef60>,\n",
       " <keras.layers.core.Dropout at 0x124bdccf8>,\n",
       " <keras.layers.core.Dense at 0x1249c0278>,\n",
       " <keras.layers.core.Dropout at 0x12802be80>,\n",
       " <keras.layers.core.Dense at 0x124d2b588>]"
      ]
     },
     "execution_count": 21,
     "metadata": {},
     "output_type": "execute_result"
    }
   ],
   "source": [
    "## Now unfreeze another last 5 layers from Convolutional base to fine-tune our model more\n",
    "pretrained_model = predicted_model.layers\n",
    "num_unfrozen_layers = -num_unfrozen_layers - 5\n",
    "\n",
    "for layer in pretrained_model[:num_unfrozen_layers]:\n",
    "    layer.trainable = False\n",
    "for layer in pretrained_model[num_unfrozen_layers:]:\n",
    "    layer.trainable = True\n",
    "    \n",
    "inspect_model(predicted_model.layers)\n",
    "predicted_model.layers"
   ]
  },
  {
   "cell_type": "code",
   "execution_count": 22,
   "metadata": {
    "_uuid": "116494306ac45b414a8dc27cab09af6aa71833f5"
   },
   "outputs": [],
   "source": [
    "predicted_model.compile(loss='categorical_crossentropy',\n",
    "                        optimizer=optimizers.adam(1e-5),\n",
    "                        metrics=['accuracy'])\n",
    "\n",
    "checkpoint = get_checkpoint(final_model_dir)\n",
    "callbacks = [checkpoint, early_stopping]"
   ]
  },
  {
   "cell_type": "code",
   "execution_count": 24,
   "metadata": {
    "_uuid": "116494306ac45b414a8dc27cab09af6aa71833f5"
   },
   "outputs": [
    {
     "name": "stdout",
     "output_type": "stream",
     "text": [
      "Epoch 1/20\n",
      "102/102 [==============================] - 107s 1s/step - loss: 1.5310 - acc: 0.6033 - val_loss: 0.9160 - val_acc: 0.7745\n",
      "\n",
      "Epoch 00001: val_acc improved from -inf to 0.77454, saving model to final_model.h5\n",
      "Epoch 2/20\n",
      "102/102 [==============================] - 106s 1s/step - loss: 1.1793 - acc: 0.6811 - val_loss: 0.6785 - val_acc: 0.8156\n",
      "\n",
      "Epoch 00002: val_acc improved from 0.77454 to 0.81565, saving model to final_model.h5\n",
      "Epoch 3/20\n",
      "102/102 [==============================] - 104s 1s/step - loss: 0.9826 - acc: 0.7298 - val_loss: 0.5949 - val_acc: 0.8490\n",
      "\n",
      "Epoch 00003: val_acc improved from 0.81565 to 0.84896, saving model to final_model.h5\n",
      "Epoch 4/20\n",
      "102/102 [==============================] - 103s 1s/step - loss: 0.8584 - acc: 0.7544 - val_loss: 0.5386 - val_acc: 0.8674\n",
      "\n",
      "Epoch 00004: val_acc improved from 0.84896 to 0.86737, saving model to final_model.h5\n",
      "Epoch 5/20\n",
      "102/102 [==============================] - 103s 1s/step - loss: 0.7392 - acc: 0.7878 - val_loss: 0.4879 - val_acc: 0.8727\n",
      "\n",
      "Epoch 00005: val_acc improved from 0.86737 to 0.87268, saving model to final_model.h5\n",
      "Epoch 6/20\n",
      "102/102 [==============================] - 104s 1s/step - loss: 0.6422 - acc: 0.8114 - val_loss: 0.4843 - val_acc: 0.8687\n",
      "\n",
      "Epoch 00006: val_acc did not improve from 0.87268\n",
      "Epoch 7/20\n",
      "102/102 [==============================] - 102s 995ms/step - loss: 0.5764 - acc: 0.8335 - val_loss: 0.4449 - val_acc: 0.8912\n",
      "\n",
      "Epoch 00007: val_acc improved from 0.87268 to 0.89125, saving model to final_model.h5\n",
      "Epoch 8/20\n",
      "102/102 [==============================] - 102s 1s/step - loss: 0.5236 - acc: 0.8459 - val_loss: 0.4157 - val_acc: 0.8912\n",
      "\n",
      "Epoch 00008: val_acc did not improve from 0.89125\n",
      "Epoch 9/20\n",
      "102/102 [==============================] - 104s 1s/step - loss: 0.4725 - acc: 0.8608 - val_loss: 0.4395 - val_acc: 0.8846\n",
      "\n",
      "Epoch 00009: val_acc did not improve from 0.89125\n",
      "Epoch 10/20\n",
      "102/102 [==============================] - 103s 1s/step - loss: 0.4297 - acc: 0.8728 - val_loss: 0.3569 - val_acc: 0.9072\n",
      "\n",
      "Epoch 00010: val_acc improved from 0.89125 to 0.90716, saving model to final_model.h5\n",
      "Epoch 11/20\n",
      "102/102 [==============================] - 103s 1s/step - loss: 0.3912 - acc: 0.8857 - val_loss: 0.4058 - val_acc: 0.8939\n",
      "\n",
      "Epoch 00011: val_acc did not improve from 0.90716\n",
      "Epoch 12/20\n",
      "102/102 [==============================] - 103s 1s/step - loss: 0.3578 - acc: 0.8925 - val_loss: 0.3120 - val_acc: 0.9098\n",
      "\n",
      "Epoch 00012: val_acc improved from 0.90716 to 0.90981, saving model to final_model.h5\n",
      "Epoch 13/20\n",
      "102/102 [==============================] - 102s 1s/step - loss: 0.3059 - acc: 0.9048 - val_loss: 0.3344 - val_acc: 0.9191\n",
      "\n",
      "Epoch 00013: val_acc improved from 0.90981 to 0.91910, saving model to final_model.h5\n",
      "Epoch 14/20\n",
      "102/102 [==============================] - 104s 1s/step - loss: 0.2941 - acc: 0.9119 - val_loss: 0.3496 - val_acc: 0.9058\n",
      "\n",
      "Epoch 00014: val_acc did not improve from 0.91910\n",
      "Epoch 15/20\n",
      "102/102 [==============================] - 106s 1s/step - loss: 0.2815 - acc: 0.9163 - val_loss: 0.3545 - val_acc: 0.9085\n",
      "\n",
      "Epoch 00015: val_acc did not improve from 0.91910\n",
      "Epoch 16/20\n",
      "102/102 [==============================] - 108s 1s/step - loss: 0.2439 - acc: 0.9244 - val_loss: 0.3145 - val_acc: 0.9141\n",
      "\n",
      "Epoch 00016: val_acc did not improve from 0.91910\n",
      "Epoch 17/20\n",
      "102/102 [==============================] - 109s 1s/step - loss: 0.2360 - acc: 0.9289 - val_loss: 0.2912 - val_acc: 0.9271\n",
      "\n",
      "Epoch 00017: val_acc improved from 0.91910 to 0.92706, saving model to final_model.h5\n",
      "Epoch 18/20\n",
      "102/102 [==============================] - 109s 1s/step - loss: 0.2055 - acc: 0.9362 - val_loss: 0.3279 - val_acc: 0.9218\n",
      "\n",
      "Epoch 00018: val_acc did not improve from 0.92706\n",
      "Epoch 19/20\n",
      "102/102 [==============================] - 104s 1s/step - loss: 0.1937 - acc: 0.9423 - val_loss: 0.3066 - val_acc: 0.9204\n",
      "\n",
      "Epoch 00019: val_acc did not improve from 0.92706\n",
      "Epoch 20/20\n",
      "102/102 [==============================] - 103s 1s/step - loss: 0.1837 - acc: 0.9434 - val_loss: 0.3061 - val_acc: 0.9271\n",
      "\n",
      "Epoch 00020: val_acc improved from 0.92706 to 0.92706, saving model to final_model.h5\n"
     ]
    }
   ],
   "source": [
    "training_history = predicted_model.fit_generator(\n",
    "    train_generator,\n",
    "    validation_data=valid_generator,\n",
    "    steps_per_epoch=train_step_size,\n",
    "    validation_steps=valid_step_size,\n",
    "    epochs=int(epochs * 2/3),\n",
    "    verbose=1,\n",
    "    callbacks=callbacks\n",
    ")"
   ]
  },
  {
   "cell_type": "code",
   "execution_count": 25,
   "metadata": {
    "_uuid": "3adf547fb25dc63a6343bce6d490aa71eaa2ba11"
   },
   "outputs": [
    {
     "data": {
      "image/png": "[encoded data removed]",
      "text/plain": [
       "<Figure size 432x288 with 1 Axes>"
      ]
     },
     "metadata": {},
     "output_type": "display_data"
    },
    {
     "data": {
      "image/png": "[encoded data removed]",
      "text/plain": [
       "<Figure size 432x288 with 1 Axes>"
      ]
     },
     "metadata": {},
     "output_type": "display_data"
    }
   ],
   "source": [
    "plot_model(training_history)"
   ]
  },
  {
   "cell_type": "code",
   "execution_count": 26,
   "metadata": {
    "_uuid": "6a842f2cd6f50c6f98aa628d0c57631d26360177"
   },
   "outputs": [],
   "source": [
    "model_saved_json = predicted_model.to_json()\n",
    "\n",
    "with open('../models/' + 'model.json', 'w') as json_file:\n",
    "# with open('./' + 'model.json', 'w') as json_file:\n",
    "    json_file.write(model_saved_json)"
   ]
  },
  {
   "cell_type": "markdown",
   "metadata": {},
   "source": [
    "## Mapping Test label into JSON file"
   ]
  },
  {
   "cell_type": "markdown",
   "metadata": {},
   "source": [
    "Displaying the test flower names from source as ground truth labels. We will compare these labels with our predictions produced by our trained model."
   ]
  },
  {
   "cell_type": "code",
   "execution_count": 14,
   "metadata": {},
   "outputs": [
    {
     "name": "stdout",
     "output_type": "stream",
     "text": [
      "{('water lily', 73), ('passion flower', 77), ('wallflower', 46), ('frangipani', 81), ('cyclamen', 88), ('watercress', 89)}\n"
     ]
    }
   ],
   "source": [
    "with open(categories_in_file) as json_file:\n",
    "    flower_names = json.load(json_file)\n",
    "    test_flower_names = [flower_names[str(label)] for label in test_labels]\n",
    "\n",
    "print(set([(flower_names[str(label)], label) for label in test_labels]))"
   ]
  },
  {
   "cell_type": "markdown",
   "metadata": {
    "_uuid": "0e5dcf6d639bbd5ca46665b1d7355df0f14d4bfe"
   },
   "source": [
    "## Evaluate Model"
   ]
  },
  {
   "cell_type": "code",
   "execution_count": 15,
   "metadata": {},
   "outputs": [
    {
     "name": "stderr",
     "output_type": "stream",
     "text": [
      "/Users/KhangVu/Documents/Development/git_project/Machine Learning/NanoDegree/submissions/Capstone-ML/capstone_env/lib/python3.7/site-packages/keras/utils/conv_utils.py:82: FutureWarning: Using a non-tuple sequence for multidimensional indexing is deprecated; use `arr[tuple(seq)]` instead of `arr[seq]`. In the future this will be interpreted as an array index, `arr[np.array(seq)]`, which will result either in an error or a different result.\n",
      "  return np.copy(kernel[slices])\n"
     ]
    }
   ],
   "source": [
    "predicted_model.load_weights(final_model_dir)"
   ]
  },
  {
   "cell_type": "code",
   "execution_count": 16,
   "metadata": {
    "_uuid": "3c4ca9ca89525ac24184746ae25f037ee30f1bc7"
   },
   "outputs": [
    {
     "ename": "KeyboardInterrupt",
     "evalue": "",
     "output_type": "error",
     "traceback": [
      "\u001b[0;31m---------------------------------------------------------------------------\u001b[0m",
      "\u001b[0;31mKeyboardInterrupt\u001b[0m                         Traceback (most recent call last)",
      "\u001b[0;32m<ipython-input-16-f6c1463ff595>\u001b[0m in \u001b[0;36m<module>\u001b[0;34m\u001b[0m\n\u001b[1;32m      1\u001b[0m evaluation = predicted_model.evaluate_generator(valid_generator, \n\u001b[0;32m----> 2\u001b[0;31m                                                 steps=valid_generator.batch_size)\n\u001b[0m",
      "\u001b[0;32m~/Documents/Development/git_project/Machine Learning/NanoDegree/submissions/Capstone-ML/capstone_env/lib/python3.7/site-packages/keras/legacy/interfaces.py\u001b[0m in \u001b[0;36mwrapper\u001b[0;34m(*args, **kwargs)\u001b[0m\n\u001b[1;32m     89\u001b[0m                 warnings.warn('Update your `' + object_name + '` call to the ' +\n\u001b[1;32m     90\u001b[0m                               'Keras 2 API: ' + signature, stacklevel=2)\n\u001b[0;32m---> 91\u001b[0;31m             \u001b[0;32mreturn\u001b[0m \u001b[0mfunc\u001b[0m\u001b[0;34m(\u001b[0m\u001b[0;34m*\u001b[0m\u001b[0margs\u001b[0m\u001b[0;34m,\u001b[0m \u001b[0;34m**\u001b[0m\u001b[0mkwargs\u001b[0m\u001b[0;34m)\u001b[0m\u001b[0;34m\u001b[0m\u001b[0;34m\u001b[0m\u001b[0m\n\u001b[0m\u001b[1;32m     92\u001b[0m         \u001b[0mwrapper\u001b[0m\u001b[0;34m.\u001b[0m\u001b[0m_original_function\u001b[0m \u001b[0;34m=\u001b[0m \u001b[0mfunc\u001b[0m\u001b[0;34m\u001b[0m\u001b[0;34m\u001b[0m\u001b[0m\n\u001b[1;32m     93\u001b[0m         \u001b[0;32mreturn\u001b[0m \u001b[0mwrapper\u001b[0m\u001b[0;34m\u001b[0m\u001b[0;34m\u001b[0m\u001b[0m\n",
      "\u001b[0;32m~/Documents/Development/git_project/Machine Learning/NanoDegree/submissions/Capstone-ML/capstone_env/lib/python3.7/site-packages/keras/engine/training.py\u001b[0m in \u001b[0;36mevaluate_generator\u001b[0;34m(self, generator, steps, max_queue_size, workers, use_multiprocessing, verbose)\u001b[0m\n\u001b[1;32m   1470\u001b[0m             \u001b[0mworkers\u001b[0m\u001b[0;34m=\u001b[0m\u001b[0mworkers\u001b[0m\u001b[0;34m,\u001b[0m\u001b[0;34m\u001b[0m\u001b[0;34m\u001b[0m\u001b[0m\n\u001b[1;32m   1471\u001b[0m             \u001b[0muse_multiprocessing\u001b[0m\u001b[0;34m=\u001b[0m\u001b[0muse_multiprocessing\u001b[0m\u001b[0;34m,\u001b[0m\u001b[0;34m\u001b[0m\u001b[0;34m\u001b[0m\u001b[0m\n\u001b[0;32m-> 1472\u001b[0;31m             verbose=verbose)\n\u001b[0m\u001b[1;32m   1473\u001b[0m \u001b[0;34m\u001b[0m\u001b[0m\n\u001b[1;32m   1474\u001b[0m     \u001b[0;34m@\u001b[0m\u001b[0minterfaces\u001b[0m\u001b[0;34m.\u001b[0m\u001b[0mlegacy_generator_methods_support\u001b[0m\u001b[0;34m\u001b[0m\u001b[0;34m\u001b[0m\u001b[0m\n",
      "\u001b[0;32m~/Documents/Development/git_project/Machine Learning/NanoDegree/submissions/Capstone-ML/capstone_env/lib/python3.7/site-packages/keras/engine/training_generator.py\u001b[0m in \u001b[0;36mevaluate_generator\u001b[0;34m(model, generator, steps, max_queue_size, workers, use_multiprocessing, verbose)\u001b[0m\n\u001b[1;32m    344\u001b[0m                                  \u001b[0;34m'or (x, y). Found: '\u001b[0m \u001b[0;34m+\u001b[0m\u001b[0;34m\u001b[0m\u001b[0;34m\u001b[0m\u001b[0m\n\u001b[1;32m    345\u001b[0m                                  str(generator_output))\n\u001b[0;32m--> 346\u001b[0;31m             \u001b[0mouts\u001b[0m \u001b[0;34m=\u001b[0m \u001b[0mmodel\u001b[0m\u001b[0;34m.\u001b[0m\u001b[0mtest_on_batch\u001b[0m\u001b[0;34m(\u001b[0m\u001b[0mx\u001b[0m\u001b[0;34m,\u001b[0m \u001b[0my\u001b[0m\u001b[0;34m,\u001b[0m \u001b[0msample_weight\u001b[0m\u001b[0;34m=\u001b[0m\u001b[0msample_weight\u001b[0m\u001b[0;34m)\u001b[0m\u001b[0;34m\u001b[0m\u001b[0;34m\u001b[0m\u001b[0m\n\u001b[0m\u001b[1;32m    347\u001b[0m             \u001b[0mouts\u001b[0m \u001b[0;34m=\u001b[0m \u001b[0mto_list\u001b[0m\u001b[0;34m(\u001b[0m\u001b[0mouts\u001b[0m\u001b[0;34m)\u001b[0m\u001b[0;34m\u001b[0m\u001b[0;34m\u001b[0m\u001b[0m\n\u001b[1;32m    348\u001b[0m             \u001b[0mouts_per_batch\u001b[0m\u001b[0;34m.\u001b[0m\u001b[0mappend\u001b[0m\u001b[0;34m(\u001b[0m\u001b[0mouts\u001b[0m\u001b[0;34m)\u001b[0m\u001b[0;34m\u001b[0m\u001b[0;34m\u001b[0m\u001b[0m\n",
      "\u001b[0;32m~/Documents/Development/git_project/Machine Learning/NanoDegree/submissions/Capstone-ML/capstone_env/lib/python3.7/site-packages/keras/engine/training.py\u001b[0m in \u001b[0;36mtest_on_batch\u001b[0;34m(self, x, y, sample_weight)\u001b[0m\n\u001b[1;32m   1254\u001b[0m             \u001b[0mins\u001b[0m \u001b[0;34m=\u001b[0m \u001b[0mx\u001b[0m \u001b[0;34m+\u001b[0m \u001b[0my\u001b[0m \u001b[0;34m+\u001b[0m \u001b[0msample_weights\u001b[0m\u001b[0;34m\u001b[0m\u001b[0;34m\u001b[0m\u001b[0m\n\u001b[1;32m   1255\u001b[0m         \u001b[0mself\u001b[0m\u001b[0;34m.\u001b[0m\u001b[0m_make_test_function\u001b[0m\u001b[0;34m(\u001b[0m\u001b[0;34m)\u001b[0m\u001b[0;34m\u001b[0m\u001b[0;34m\u001b[0m\u001b[0m\n\u001b[0;32m-> 1256\u001b[0;31m         \u001b[0moutputs\u001b[0m \u001b[0;34m=\u001b[0m \u001b[0mself\u001b[0m\u001b[0;34m.\u001b[0m\u001b[0mtest_function\u001b[0m\u001b[0;34m(\u001b[0m\u001b[0mins\u001b[0m\u001b[0;34m)\u001b[0m\u001b[0;34m\u001b[0m\u001b[0;34m\u001b[0m\u001b[0m\n\u001b[0m\u001b[1;32m   1257\u001b[0m         \u001b[0;32mreturn\u001b[0m \u001b[0munpack_singleton\u001b[0m\u001b[0;34m(\u001b[0m\u001b[0moutputs\u001b[0m\u001b[0;34m)\u001b[0m\u001b[0;34m\u001b[0m\u001b[0;34m\u001b[0m\u001b[0m\n\u001b[1;32m   1258\u001b[0m \u001b[0;34m\u001b[0m\u001b[0m\n",
      "\u001b[0;32m~/Documents/Development/git_project/Machine Learning/NanoDegree/submissions/Capstone-ML/capstone_env/lib/python3.7/site-packages/keras/backend/theano_backend.py\u001b[0m in \u001b[0;36m__call__\u001b[0;34m(self, inputs)\u001b[0m\n\u001b[1;32m   1386\u001b[0m     \u001b[0;32mdef\u001b[0m \u001b[0m__call__\u001b[0m\u001b[0;34m(\u001b[0m\u001b[0mself\u001b[0m\u001b[0;34m,\u001b[0m \u001b[0minputs\u001b[0m\u001b[0;34m)\u001b[0m\u001b[0;34m:\u001b[0m\u001b[0;34m\u001b[0m\u001b[0;34m\u001b[0m\u001b[0m\n\u001b[1;32m   1387\u001b[0m         \u001b[0;32massert\u001b[0m \u001b[0misinstance\u001b[0m\u001b[0;34m(\u001b[0m\u001b[0minputs\u001b[0m\u001b[0;34m,\u001b[0m \u001b[0;34m(\u001b[0m\u001b[0mlist\u001b[0m\u001b[0;34m,\u001b[0m \u001b[0mtuple\u001b[0m\u001b[0;34m)\u001b[0m\u001b[0;34m)\u001b[0m\u001b[0;34m\u001b[0m\u001b[0;34m\u001b[0m\u001b[0m\n\u001b[0;32m-> 1388\u001b[0;31m         \u001b[0;32mreturn\u001b[0m \u001b[0mself\u001b[0m\u001b[0;34m.\u001b[0m\u001b[0mfunction\u001b[0m\u001b[0;34m(\u001b[0m\u001b[0;34m*\u001b[0m\u001b[0minputs\u001b[0m\u001b[0;34m)\u001b[0m\u001b[0;34m\u001b[0m\u001b[0;34m\u001b[0m\u001b[0m\n\u001b[0m\u001b[1;32m   1389\u001b[0m \u001b[0;34m\u001b[0m\u001b[0m\n\u001b[1;32m   1390\u001b[0m \u001b[0;34m\u001b[0m\u001b[0m\n",
      "\u001b[0;32m~/Documents/Development/git_project/Machine Learning/NanoDegree/submissions/Capstone-ML/capstone_env/lib/python3.7/site-packages/theano/compile/function_module.py\u001b[0m in \u001b[0;36m__call__\u001b[0;34m(self, *args, **kwargs)\u001b[0m\n\u001b[1;32m    901\u001b[0m         \u001b[0;32mtry\u001b[0m\u001b[0;34m:\u001b[0m\u001b[0;34m\u001b[0m\u001b[0;34m\u001b[0m\u001b[0m\n\u001b[1;32m    902\u001b[0m             \u001b[0moutputs\u001b[0m \u001b[0;34m=\u001b[0m\u001b[0;31m\\\u001b[0m\u001b[0;34m\u001b[0m\u001b[0;34m\u001b[0m\u001b[0m\n\u001b[0;32m--> 903\u001b[0;31m                 \u001b[0mself\u001b[0m\u001b[0;34m.\u001b[0m\u001b[0mfn\u001b[0m\u001b[0;34m(\u001b[0m\u001b[0;34m)\u001b[0m \u001b[0;32mif\u001b[0m \u001b[0moutput_subset\u001b[0m \u001b[0;32mis\u001b[0m \u001b[0;32mNone\u001b[0m \u001b[0;32melse\u001b[0m\u001b[0;31m\\\u001b[0m\u001b[0;34m\u001b[0m\u001b[0;34m\u001b[0m\u001b[0m\n\u001b[0m\u001b[1;32m    904\u001b[0m                 \u001b[0mself\u001b[0m\u001b[0;34m.\u001b[0m\u001b[0mfn\u001b[0m\u001b[0;34m(\u001b[0m\u001b[0moutput_subset\u001b[0m\u001b[0;34m=\u001b[0m\u001b[0moutput_subset\u001b[0m\u001b[0;34m)\u001b[0m\u001b[0;34m\u001b[0m\u001b[0;34m\u001b[0m\u001b[0m\n\u001b[1;32m    905\u001b[0m         \u001b[0;32mexcept\u001b[0m \u001b[0mException\u001b[0m\u001b[0;34m:\u001b[0m\u001b[0;34m\u001b[0m\u001b[0;34m\u001b[0m\u001b[0m\n",
      "\u001b[0;32m~/Documents/Development/git_project/Machine Learning/NanoDegree/submissions/Capstone-ML/capstone_env/lib/python3.7/site-packages/theano/ifelse.py\u001b[0m in \u001b[0;36mthunk\u001b[0;34m()\u001b[0m\n\u001b[1;32m    243\u001b[0m         \u001b[0moutputs\u001b[0m \u001b[0;34m=\u001b[0m \u001b[0mnode\u001b[0m\u001b[0;34m.\u001b[0m\u001b[0moutputs\u001b[0m\u001b[0;34m\u001b[0m\u001b[0;34m\u001b[0m\u001b[0m\n\u001b[1;32m    244\u001b[0m \u001b[0;34m\u001b[0m\u001b[0m\n\u001b[0;32m--> 245\u001b[0;31m         \u001b[0;32mdef\u001b[0m \u001b[0mthunk\u001b[0m\u001b[0;34m(\u001b[0m\u001b[0;34m)\u001b[0m\u001b[0;34m:\u001b[0m\u001b[0;34m\u001b[0m\u001b[0;34m\u001b[0m\u001b[0m\n\u001b[0m\u001b[1;32m    246\u001b[0m             \u001b[0;32mif\u001b[0m \u001b[0;32mnot\u001b[0m \u001b[0mcompute_map\u001b[0m\u001b[0;34m[\u001b[0m\u001b[0mcond\u001b[0m\u001b[0;34m]\u001b[0m\u001b[0;34m[\u001b[0m\u001b[0;36m0\u001b[0m\u001b[0;34m]\u001b[0m\u001b[0;34m:\u001b[0m\u001b[0;34m\u001b[0m\u001b[0;34m\u001b[0m\u001b[0m\n\u001b[1;32m    247\u001b[0m                 \u001b[0;32mreturn\u001b[0m \u001b[0;34m[\u001b[0m\u001b[0;36m0\u001b[0m\u001b[0;34m]\u001b[0m\u001b[0;34m\u001b[0m\u001b[0;34m\u001b[0m\u001b[0m\n",
      "\u001b[0;31mKeyboardInterrupt\u001b[0m: "
     ]
    }
   ],
   "source": [
    "evaluation = predicted_model.evaluate_generator(valid_generator, \n",
    "                                                steps=valid_generator.batch_size)"
   ]
  },
  {
   "cell_type": "code",
   "execution_count": null,
   "metadata": {
    "_uuid": "9d60f2c508514a8835e89e4be15994ad2cc7f913"
   },
   "outputs": [],
   "source": [
    "print(evaluation)"
   ]
  },
  {
   "cell_type": "code",
   "execution_count": null,
   "metadata": {
    "_uuid": "5c36fab216c647b8c9421d6a84f1cf8e4a7c9b7d"
   },
   "outputs": [],
   "source": [
    "test_generator.reset()\n",
    "prediction = predicted_model.predict_generator(test_generator,\n",
    "                                               steps=len(test_generator.labels), verbose=1)\n",
    "\n",
    "predicted_classes = np.argmax(prediction, axis=1)"
   ]
  },
  {
   "cell_type": "code",
   "execution_count": null,
   "metadata": {
    "_uuid": "4ba6d118c9e1edbaef393cadb90fa7bfbd090076"
   },
   "outputs": [],
   "source": [
    "labels = dict((value, key) for key, value in train_generator.class_indices.items())\n",
    "predictions = [labels[k] for k in predicted_classes]"
   ]
  },
  {
   "cell_type": "code",
   "execution_count": null,
   "metadata": {
    "_uuid": "f4eb62263cfe8263069fb3698ddaa7801ff910e9"
   },
   "outputs": [],
   "source": [
    "file_indices = test_generator.filenames\n",
    "results = pd.DataFrame({\n",
    "    \"Filename\": file_indices,\n",
    "    \"Prediction\": predictions,\n",
    "    \"Grouth truth label\": test_flower_names\n",
    "})\n",
    "results.to_csv(\"results.csv\", index=False)\n",
    "results.to_csv(\"../results/results.csv\", index=False)\n",
    "results"
   ]
  },
  {
   "cell_type": "markdown",
   "metadata": {},
   "source": [
    "## Visualization"
   ]
  },
  {
   "cell_type": "markdown",
   "metadata": {},
   "source": [
    "Drawing heatmap for confusion matrix on how well our model performs."
   ]
  },
  {
   "cell_type": "code",
   "execution_count": 102,
   "metadata": {},
   "outputs": [
    {
     "name": "stdout",
     "output_type": "stream",
     "text": [
      "Counter({77: 251, 73: 194, 89: 183, 81: 166, 88: 152, 46: 54})\n",
      "(46, 54)\n",
      "(81, 166)\n",
      "(89, 183)\n",
      "(88, 152)\n",
      "(73, 194)\n",
      "(77, 251)\n"
     ]
    }
   ],
   "source": [
    "flowers = Counter(test_labels)\n",
    "print(flowers)\n",
    "while flowers:\n",
    "    print(flowers.popitem())\n",
    "\n",
    "# try:\n",
    "#     matrix = confusion_matrix(test_flower_names, test_flower_names)\n",
    "#     df = pd.DataFrame(matrix, index=[int(x) for x in test_labels])\n",
    "#     heatmap = sns.heatmap(df, annot=True, fmt=\"d\")\n",
    "# except ValueError:\n",
    "#     raise ValueError(\"Confusion matrix values must be integers.\")\n",
    "\n",
    "# heatmap.yaxis.set_ticklabels(heatmap.yaxis.get_ticklabels(), \n",
    "#                              rotation=0, ha='right', fontsize=12.0)\n",
    "# heatmap.xaxis.set_ticklabels(heatmap.xaxis.get_ticklabels(), \n",
    "#                              rotation=45, ha='right', fontsize=12.0)\n",
    "\n",
    "# plt.xlabel('Ground Truth label')\n",
    "# plt.ylabel('Predicted label')"
   ]
  },
  {
   "cell_type": "code",
   "execution_count": 32,
   "metadata": {
    "_uuid": "bd45492fb4e8fbd4ca5beda2f738a463798b0ac6"
   },
   "outputs": [],
   "source": [
    "## Cleanup session for backend\n",
    "k.clear_session()"
   ]
  }
 ],
 "metadata": {
  "kernelspec": {
   "display_name": "capstone_env",
   "language": "python",
   "name": "capstone_env"
  },
  "language_info": {
   "codemirror_mode": {
    "name": "ipython",
    "version": 3
   },
   "file_extension": ".py",
   "mimetype": "text/x-python",
   "name": "python",
   "nbconvert_exporter": "python",
   "pygments_lexer": "ipython3",
   "version": "3.7.1"
  }
 },
 "nbformat": 4,
 "nbformat_minor": 1
}
