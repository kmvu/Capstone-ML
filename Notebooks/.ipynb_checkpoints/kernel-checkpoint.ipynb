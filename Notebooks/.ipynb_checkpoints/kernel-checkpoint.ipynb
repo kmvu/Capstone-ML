{
 "cells": [
  {
   "cell_type": "markdown",
   "metadata": {
    "_uuid": "de8d3b86a4e7530583a2d5eb093b69bad13c27b4"
   },
   "source": [
    "# Machine Learning Nanodegree - Capstone project\n",
    "\n",
    "# Flower classification"
   ]
  },
  {
   "cell_type": "markdown",
   "metadata": {
    "_uuid": "0cb9d486fb16a3536c801211d194c8f7572b6bb8"
   },
   "source": [
    "Import necessary Python packages (for loading, plotting, and augmenting data, building Neural Network, etc...)"
   ]
  },
  {
   "cell_type": "code",
   "execution_count": 38,
   "metadata": {
    "_uuid": "8a35cfee1862b9f88610f11ae19c4fe17a895c70"
   },
   "outputs": [
    {
     "name": "stdout",
     "output_type": "stream",
     "text": [
      "env: KERAS_BACKEND=theano\n"
     ]
    }
   ],
   "source": [
    "%env KERAS_BACKEND=theano\n",
    "\n",
    "import numpy as np\n",
    "import pandas as pd\n",
    "import seaborn as sns\n",
    "import matplotlib.pyplot as plt\n",
    "import os\n",
    "import json\n",
    "\n",
    "from keras import backend as k\n",
    "from keras import optimizers, regularizers\n",
    "from keras.models import Sequential, Model, load_model\n",
    "from keras.layers import Dense, Flatten, Dropout, Conv2D, GlobalAveragePooling2D, Input\n",
    "from keras.callbacks import ModelCheckpoint, EarlyStopping\n",
    "from keras.preprocessing import image\n",
    "from keras.applications.vgg19 import VGG19, preprocess_input\n",
    "from keras.preprocessing.image import ImageDataGenerator\n",
    "\n",
    "from tqdm import tqdm\n",
    "from scipy.io import loadmat\n",
    "from collections import Counter, OrderedDict\n",
    "from sklearn.metrics import confusion_matrix, f1_score, precision_score, recall_score\n",
    "\n",
    "%matplotlib inline"
   ]
  },
  {
   "cell_type": "markdown",
   "metadata": {
    "_uuid": "fa2f43882007c3fc703c28eab32f59dbf810cf8f"
   },
   "source": [
    "Splitting into three folders: Train, validation, Test. And setup hyper-parameters for tuning later."
   ]
  },
  {
   "cell_type": "code",
   "execution_count": 23,
   "metadata": {
    "_uuid": "f170af890f5bd8bba23780289290053ffba2acb1"
   },
   "outputs": [],
   "source": [
    "test_labels_dir = '../files/imagelabels.mat'\n",
    "benchmark_model_dir = '../models/benchmark_model.h5'\n",
    "best_model_dir = '../models/best_model.h5'\n",
    "final_model_dir = '../models/final_model.h5'\n",
    "data_dir = '../flower_data'\n",
    "\n",
    "# test_labels_dir = '../input/test-file/imagelabels.mat'\n",
    "# benchmark_model_dir = 'benchmark_model.h5'\n",
    "# best_model_dir = 'best_model.h5'\n",
    "# final_model_dir = 'final_model.h5'\n",
    "# data_dir = '../input/flower-data-2/flower_data/flower_data'\n",
    "\n",
    "cat_to_name_dir = 'cat_to_name.json'\n",
    "TRAIN, VAL, TEST = 'train', 'valid', 'test'\n",
    "\n",
    "train_in_file = os.path.join(data_dir, TRAIN)\n",
    "valid_in_file = os.path.join(data_dir, VAL)\n",
    "test_in_file = os.path.join(data_dir, TEST)\n",
    "categories_in_file = os.path.join(data_dir, cat_to_name_dir)\n",
    "\n",
    "# Hyper-parameters\n",
    "input_size = (224, 224) # This size is dertermined by the size from VGG-19\n",
    "channels = 3 # RGB\n",
    "epochs = 30\n",
    "transform_ratio = 0.2 # For Data augmentation aggressiveness \n",
    "batch_size = 64\n",
    "rescale_ratio = 1.0 / 255.0 # (RGB)\n",
    "num_unfrozen_layers = 6 # for freezing layers later during Transfer Learning (we will create 6 custom layers)"
   ]
  },
  {
   "cell_type": "code",
   "execution_count": 24,
   "metadata": {
    "_uuid": "f170af890f5bd8bba23780289290053ffba2acb1"
   },
   "outputs": [],
   "source": [
    "# Save checkpoint in a target directory with accuracy\n",
    "def get_checkpoint(target_directory):\n",
    "     return ModelCheckpoint(\n",
    "        target_directory,\n",
    "        monitor='val_acc',\n",
    "        save_best_only=True,\n",
    "        verbose=1\n",
    "    )\n",
    "\n",
    "early_stopping = EarlyStopping(\n",
    "    monitor='val_acc',\n",
    "    mode='auto',\n",
    "    min_delta=0.0, # Tuning this parameter for smallest amount to be `improvement`\n",
    "    patience=5, # number of epochs with no improvement after which we stop\n",
    "    verbose=1\n",
    ")"
   ]
  },
  {
   "cell_type": "code",
   "execution_count": 25,
   "metadata": {
    "_uuid": "02309e9eecd2f5db76c16117b9b4d4f91c55d2f2"
   },
   "outputs": [
    {
     "name": "stdout",
     "output_type": "stream",
     "text": [
      "Counter({77: 251, 73: 194, 89: 183, 81: 166, 88: 152, 46: 54})\n"
     ]
    }
   ],
   "source": [
    "test_labels = loadmat(test_labels_dir)['labels'][0][:1000]\n",
    "print(Counter(test_labels))"
   ]
  },
  {
   "cell_type": "markdown",
   "metadata": {
    "_uuid": "082a77bed1ee18f3cad445561977aae215cc973e"
   },
   "source": [
    "# Data augmentation\n",
    "\n",
    "Create Image generators for our flower data structure to have more options for our training model."
   ]
  },
  {
   "cell_type": "code",
   "execution_count": 26,
   "metadata": {
    "_uuid": "d5466f3aab235f89462e99a4309ca71c4d27e7f3"
   },
   "outputs": [],
   "source": [
    "## Augmentation configuration is applied to Image Data Generator for training\n",
    "train_datagen = ImageDataGenerator(\n",
    "    preprocessing_function=preprocess_input,\n",
    "    horizontal_flip=True,\n",
    "    rescale=rescale_ratio,\n",
    "    rotation_range=25,\n",
    "    zoom_range=transform_ratio,\n",
    "    shear_range=transform_ratio,\n",
    "    cval=transform_ratio,\n",
    "    fill_mode='nearest'\n",
    ")\n",
    "valid_datagen = ImageDataGenerator(\n",
    "    preprocessing_function=preprocess_input,\n",
    "    horizontal_flip=True,\n",
    "    rescale=rescale_ratio,\n",
    "    rotation_range=25,\n",
    "    zoom_range=transform_ratio,\n",
    "    shear_range=transform_ratio,\n",
    "    cval=transform_ratio,\n",
    "    fill_mode='nearest'\n",
    ")\n",
    "test_datagen = ImageDataGenerator(\n",
    "    preprocessing_function=preprocess_input\n",
    ")"
   ]
  },
  {
   "cell_type": "code",
   "execution_count": 27,
   "metadata": {
    "_uuid": "d5466f3aab235f89462e99a4309ca71c4d27e7f3"
   },
   "outputs": [
    {
     "name": "stdout",
     "output_type": "stream",
     "text": [
      "Found 6552 images belonging to 102 classes.\n",
      "Found 818 images belonging to 102 classes.\n",
      "Found 819 images belonging to 1 classes.\n"
     ]
    }
   ],
   "source": [
    "## Create Data generators for each folders, loading from given directories\n",
    "train_generator = train_datagen.flow_from_directory(\n",
    "    directory=train_in_file,\n",
    "    target_size=input_size,\n",
    "    color_mode=\"rgb\",\n",
    "    batch_size=batch_size,\n",
    "    class_mode=\"categorical\", # Since we have more then 2 classes to predict\n",
    ")\n",
    "\n",
    "valid_generator = valid_datagen.flow_from_directory(\n",
    "    directory=valid_in_file,\n",
    "    target_size=input_size,\n",
    "    color_mode=\"rgb\",\n",
    "    batch_size=batch_size,\n",
    "    class_mode=\"categorical\",\n",
    "    shuffle=False,\n",
    ")\n",
    "\n",
    "test_generator = test_datagen.flow_from_directory(\n",
    "    directory=test_in_file,\n",
    "    target_size=input_size,\n",
    "    color_mode=\"rgb\",\n",
    "    batch_size=91, # A number which divides total number of test images\n",
    "    class_mode=None, # To return only the images\n",
    "    shuffle=False # Set to False to make the images are tested in order\n",
    ")"
   ]
  },
  {
   "cell_type": "code",
   "execution_count": 28,
   "metadata": {
    "_uuid": "d5466f3aab235f89462e99a4309ca71c4d27e7f3"
   },
   "outputs": [],
   "source": [
    "## Step sizes to fit and train our model later\n",
    "train_step_size = train_generator.n // train_generator.batch_size\n",
    "valid_step_size = valid_generator.n // valid_generator.batch_size"
   ]
  },
  {
   "cell_type": "markdown",
   "metadata": {
    "_uuid": "77c3fe658ab8ffb8466b2d3680907542953c6441"
   },
   "source": [
    "# Benchmark model\n",
    "Using a very simple custom CNN to make sure our data was loaded correctly and working properly."
   ]
  },
  {
   "cell_type": "code",
   "execution_count": null,
   "metadata": {
    "_uuid": "badbdfb05fc0d3d1843567c75d06a27b8dfc5a2f"
   },
   "outputs": [],
   "source": [
    "bench_model = Sequential()\n",
    "bench_model.add(Conv2D(256, kernel_size=2, input_shape=(224, 224, 3), activation='relu'))\n",
    "bench_model.add(GlobalAveragePooling2D())\n",
    "bench_model.add(Dropout(0.5))\n",
    "bench_model.add(Dense(128, activation='relu'))\n",
    "bench_model.add(Dropout(0.2))\n",
    "bench_model.add(Dense(train_generator.num_classes, activation='softmax'))"
   ]
  },
  {
   "cell_type": "code",
   "execution_count": null,
   "metadata": {
    "_uuid": "7275baf4856912f5742648ba26c5cc1186765d18"
   },
   "outputs": [],
   "source": [
    "## Create our main model\n",
    "predicted_model = Model(inputs=bench_model.input, outputs=bench_model.output)\n",
    "predicted_model.summary()"
   ]
  },
  {
   "cell_type": "code",
   "execution_count": null,
   "metadata": {
    "_uuid": "96881d252d136299a9af3c8ee2ab9288c1a7fc37"
   },
   "outputs": [],
   "source": [
    "## Compile our model\n",
    "predicted_model.compile(\n",
    "    loss='categorical_crossentropy', # Since we have multi-class categories in our dataset\n",
    "    optimizer=optimizers.adam(1e-3),\n",
    "    metrics=['accuracy']\n",
    ")\n",
    "\n",
    "## Getting callbacks\n",
    "checkpoint = get_checkpoint(benchmark_model_dir)\n",
    "callbacks = [checkpoint, early_stopping]"
   ]
  },
  {
   "cell_type": "code",
   "execution_count": null,
   "metadata": {
    "_uuid": "098514c29f4a725c7f96311d6b805b8d9cf360a5"
   },
   "outputs": [],
   "source": [
    "## Training model\n",
    "training_history = predicted_model.fit_generator(\n",
    "    train_generator,\n",
    "    validation_data=valid_generator,\n",
    "    steps_per_epoch=train_step_size,\n",
    "    validation_steps=valid_step_size,\n",
    "    epochs=epochs // 6,\n",
    "    verbose=1,\n",
    "    callbacks=callbacks\n",
    ")"
   ]
  },
  {
   "cell_type": "markdown",
   "metadata": {
    "_uuid": "0ebf94b1c6dfea0fb0e544885fdc6560afcb28ed"
   },
   "source": [
    "As expected, a benchmark model built with simple architecture containing only a few Dense layers is definitely not enough to produce good result, since this model knows nothing about our current dataset. \n",
    "\n",
    "We will need a model with more knowledge on lower levels, to extract the foundation features out from the given images, using a pre-trained model such as VGG-19, which has already been trained on ImageNet through 1000 images. This way we can modify this pre-trained model using Transfer Learning technique to solve our unique problem with customized Dense layers."
   ]
  },
  {
   "cell_type": "markdown",
   "metadata": {
    "_uuid": "319f1916a9a09f39efccef247d6e44ae31d7e8f1"
   },
   "source": [
    "## Model creation - VGG-19 Transfer Learning"
   ]
  },
  {
   "cell_type": "markdown",
   "metadata": {
    "_uuid": "411406569ec6e86658582d0a26c77c8fdc1d566e"
   },
   "source": [
    "Download VGG-19 with pre-trained weights from ImageNet. We then exclude its top layer since we want to predict our own 102 different categories of flower."
   ]
  },
  {
   "cell_type": "code",
   "execution_count": 29,
   "metadata": {
    "_uuid": "9133bb8e7dc182364fd31a19f39a307e60225047",
    "scrolled": false
   },
   "outputs": [],
   "source": [
    "base_model = VGG19(\n",
    "    weights='imagenet',\n",
    "    include_top=False,\n",
    "    input_shape=(input_size[0], input_size[1], channels)\n",
    ")"
   ]
  },
  {
   "cell_type": "code",
   "execution_count": 30,
   "metadata": {
    "_uuid": "bdc375dcb5c25907f39c4e5a9219c576d7598be7"
   },
   "outputs": [],
   "source": [
    "def inspect_model(model):\n",
    "    for index, layer in enumerate(base_model.layers):\n",
    "        print('Layer #{}: {} - Trainable: {}\\nWeights: {}\\n'.format(index, layer, layer.trainable, layer.trainable_weights))"
   ]
  },
  {
   "cell_type": "code",
   "execution_count": 31,
   "metadata": {
    "_uuid": "fbf4b7a29ed032d016254fc6169cea6dc87ae21b"
   },
   "outputs": [
    {
     "name": "stdout",
     "output_type": "stream",
     "text": [
      "Layer #0: <keras.engine.input_layer.InputLayer object at 0x106ad05f8> - Trainable: False\n",
      "Weights: []\n",
      "\n",
      "Layer #1: <keras.layers.convolutional.Conv2D object at 0x121a24898> - Trainable: True\n",
      "Weights: [block1_conv1/kernel, block1_conv1/bias]\n",
      "\n",
      "Layer #2: <keras.layers.convolutional.Conv2D object at 0x121a24b38> - Trainable: True\n",
      "Weights: [block1_conv2/kernel, block1_conv2/bias]\n",
      "\n",
      "Layer #3: <keras.layers.pooling.MaxPooling2D object at 0x11fce1630> - Trainable: True\n",
      "Weights: []\n",
      "\n",
      "Layer #4: <keras.layers.convolutional.Conv2D object at 0x11ccd6390> - Trainable: True\n",
      "Weights: [block2_conv1/kernel, block2_conv1/bias]\n",
      "\n",
      "Layer #5: <keras.layers.convolutional.Conv2D object at 0x11ccd6898> - Trainable: True\n",
      "Weights: [block2_conv2/kernel, block2_conv2/bias]\n",
      "\n",
      "Layer #6: <keras.layers.pooling.MaxPooling2D object at 0x11c6f5978> - Trainable: True\n",
      "Weights: []\n",
      "\n",
      "Layer #7: <keras.layers.convolutional.Conv2D object at 0x11c70ed30> - Trainable: True\n",
      "Weights: [block3_conv1/kernel, block3_conv1/bias]\n",
      "\n",
      "Layer #8: <keras.layers.convolutional.Conv2D object at 0x11c9e20f0> - Trainable: True\n",
      "Weights: [block3_conv2/kernel, block3_conv2/bias]\n",
      "\n",
      "Layer #9: <keras.layers.convolutional.Conv2D object at 0x11bd3bac8> - Trainable: True\n",
      "Weights: [block3_conv3/kernel, block3_conv3/bias]\n",
      "\n",
      "Layer #10: <keras.layers.convolutional.Conv2D object at 0x11bc5e0b8> - Trainable: True\n",
      "Weights: [block3_conv4/kernel, block3_conv4/bias]\n",
      "\n",
      "Layer #11: <keras.layers.pooling.MaxPooling2D object at 0x11b95b588> - Trainable: True\n",
      "Weights: []\n",
      "\n",
      "Layer #12: <keras.layers.convolutional.Conv2D object at 0x11b97e400> - Trainable: True\n",
      "Weights: [block4_conv1/kernel, block4_conv1/bias]\n",
      "\n",
      "Layer #13: <keras.layers.convolutional.Conv2D object at 0x11ba8a2b0> - Trainable: True\n",
      "Weights: [block4_conv2/kernel, block4_conv2/bias]\n",
      "\n",
      "Layer #14: <keras.layers.convolutional.Conv2D object at 0x11baa3ac8> - Trainable: True\n",
      "Weights: [block4_conv3/kernel, block4_conv3/bias]\n",
      "\n",
      "Layer #15: <keras.layers.convolutional.Conv2D object at 0x11de719b0> - Trainable: True\n",
      "Weights: [block4_conv4/kernel, block4_conv4/bias]\n",
      "\n",
      "Layer #16: <keras.layers.pooling.MaxPooling2D object at 0x11df1e390> - Trainable: True\n",
      "Weights: []\n",
      "\n",
      "Layer #17: <keras.layers.convolutional.Conv2D object at 0x1214fa7f0> - Trainable: True\n",
      "Weights: [block5_conv1/kernel, block5_conv1/bias]\n",
      "\n",
      "Layer #18: <keras.layers.convolutional.Conv2D object at 0x1214f8ba8> - Trainable: True\n",
      "Weights: [block5_conv2/kernel, block5_conv2/bias]\n",
      "\n",
      "Layer #19: <keras.layers.convolutional.Conv2D object at 0x1215ab9b0> - Trainable: True\n",
      "Weights: [block5_conv3/kernel, block5_conv3/bias]\n",
      "\n",
      "Layer #20: <keras.layers.convolutional.Conv2D object at 0x12167cb38> - Trainable: True\n",
      "Weights: [block5_conv4/kernel, block5_conv4/bias]\n",
      "\n",
      "Layer #21: <keras.layers.pooling.MaxPooling2D object at 0x121729278> - Trainable: True\n",
      "Weights: []\n",
      "\n"
     ]
    }
   ],
   "source": [
    "inspect_model(base_model)"
   ]
  },
  {
   "cell_type": "code",
   "execution_count": null,
   "metadata": {
    "_uuid": "72887398c3852ca0d574048f6f068a50dad0e1a9"
   },
   "outputs": [],
   "source": [
    "############################################################################\n",
    "# Since our data is similar to images in ImageNet database, and it\n",
    "# can be considered as small (only few thousands of images in total),\n",
    "# we can freeze the all the layers except the fully-connected (FC) layers\n",
    "# since we can expect the higher-level featuers in the pre-trained model\n",
    "# to be relevant to our data, so we only train them (the FC layers).\n",
    "############################################################################\n",
    "\n",
    "## Here we train only the top layers by freezing all the layers that are already pre-trained\n",
    "for layer in base_model.layers:\n",
    "    layer.trainable = False\n",
    "    \n",
    "# Now add some custom layers into our model\n",
    "net = Flatten(name='flatten')(base_model.output)\n",
    "net = Dense(4096, activation='relu')(net)\n",
    "net = Dropout(0.5)(net)\n",
    "net = Dense(4096, activation='relu', \n",
    "            activity_regularizer=regularizers.l1_l2(l1=0.01, l2=0.01))(net)\n",
    "net = Dropout(0.5)(net)\n",
    "net = Dense(train_generator.num_classes, \n",
    "            activation='softmax')(net) # 102 output classes"
   ]
  },
  {
   "cell_type": "code",
   "execution_count": null,
   "metadata": {
    "_uuid": "72887398c3852ca0d574048f6f068a50dad0e1a9"
   },
   "outputs": [],
   "source": [
    "# Create our main model\n",
    "predicted_model = Model(inputs=base_model.input, outputs=net)\n",
    "predicted_model.summary()\n",
    "inspect_model(base_model)"
   ]
  },
  {
   "cell_type": "code",
   "execution_count": null,
   "metadata": {
    "_uuid": "24ef8b5b580400e312a559d36bdb72b529f94e23"
   },
   "outputs": [],
   "source": [
    "# Compile our model\n",
    "predicted_model.compile(\n",
    "    loss='categorical_crossentropy', # Since we have multi-class categories in our dataset\n",
    "    optimizer=optimizers.adam(1e-5),\n",
    "    metrics=['accuracy']\n",
    ")\n",
    "\n",
    "checkpoint = get_checkpoint(best_model_dir)\n",
    "callbacks = [checkpoint, early_stopping]"
   ]
  },
  {
   "cell_type": "markdown",
   "metadata": {
    "_uuid": "c07d383a7eb61ed601c556dd5010abcd9116becb"
   },
   "source": [
    "## Training model (Simple version - freezing all convolutional layers)"
   ]
  },
  {
   "cell_type": "code",
   "execution_count": null,
   "metadata": {
    "_uuid": "a6db1cea1ed6e923182389b95dad1a39f3d4980d",
    "scrolled": false
   },
   "outputs": [],
   "source": [
    "training_history = predicted_model.fit_generator(\n",
    "    train_generator,\n",
    "    validation_data=valid_generator,\n",
    "    steps_per_epoch=train_step_size,\n",
    "    validation_steps=valid_step_size,\n",
    "    epochs=int(epochs * 1/3),\n",
    "    verbose=1,\n",
    "    callbacks=callbacks\n",
    ")"
   ]
  },
  {
   "cell_type": "markdown",
   "metadata": {
    "_uuid": "f936cfb3ae700e46675fbcccce3e44bb7cda9276"
   },
   "source": [
    "## Losses Visualization"
   ]
  },
  {
   "cell_type": "code",
   "execution_count": null,
   "metadata": {
    "_uuid": "1fbc1f83e9b45ab81d94d78c84f5565546f2c8ee"
   },
   "outputs": [],
   "source": [
    "def plot_model(trainning_history):\n",
    "    train_accuracy = training_history.history['acc']\n",
    "    val_accuracy = training_history.history['val_acc']\n",
    "    \n",
    "    train_loss = training_history.history['loss']\n",
    "    val_loss = training_history.history['val_loss']\n",
    "    \n",
    "    num_epochs = range(len(train_accuracy))\n",
    "    plt.plot(num_epochs, train_accuracy, 'g', label='Training')\n",
    "    plt.plot(num_epochs, val_accuracy, 'r', label='Validation')\n",
    "    plt.xlabel('epoch')\n",
    "    plt.ylabel('accuracy')\n",
    "    plt.legend()\n",
    "    \n",
    "    plt.figure()\n",
    "    \n",
    "    plt.plot(num_epochs, train_loss, 'b', label='Training')\n",
    "    plt.plot(num_epochs, val_loss, 'r', label='Validation')\n",
    "    plt.xlabel('epoch')\n",
    "    plt.ylabel('loss')\n",
    "    plt.legend()\n",
    "    \n",
    "    plt.show()"
   ]
  },
  {
   "cell_type": "code",
   "execution_count": null,
   "metadata": {
    "_uuid": "09503c5c4ee4d07a762e62bb7133a6384fade3ae"
   },
   "outputs": [],
   "source": [
    "plot_model(training_history)"
   ]
  },
  {
   "cell_type": "markdown",
   "metadata": {
    "_uuid": "2cc13141334c32c42bc25ffe8e1b8d8c7b4f8060"
   },
   "source": [
    "## Loading checkpoint with best weights for our model and fine-tune"
   ]
  },
  {
   "cell_type": "code",
   "execution_count": null,
   "metadata": {
    "_kg_hide-input": false,
    "_kg_hide-output": false,
    "_uuid": "33ebfcbd490f010a8e42bd90e483538312182373",
    "scrolled": true
   },
   "outputs": [],
   "source": [
    "predicted_model.load_weights(best_model_dir)"
   ]
  },
  {
   "cell_type": "code",
   "execution_count": null,
   "metadata": {
    "_uuid": "116494306ac45b414a8dc27cab09af6aa71833f5"
   },
   "outputs": [],
   "source": [
    "## Now unfreeze another last 5 layers from Convolutional base to fine-tune our model more\n",
    "pretrained_model = predicted_model.layers\n",
    "num_unfrozen_layers = -num_unfrozen_layers - 5\n",
    "\n",
    "for layer in pretrained_model[:num_unfrozen_layers]:\n",
    "    layer.trainable = False\n",
    "for layer in pretrained_model[num_unfrozen_layers:]:\n",
    "    layer.trainable = True\n",
    "    \n",
    "inspect_model(predicted_model.layers)\n",
    "predicted_model.layers"
   ]
  },
  {
   "cell_type": "code",
   "execution_count": null,
   "metadata": {
    "_uuid": "116494306ac45b414a8dc27cab09af6aa71833f5"
   },
   "outputs": [],
   "source": [
    "predicted_model.compile(loss='categorical_crossentropy',\n",
    "                        optimizer=optimizers.adam(1e-5),\n",
    "                        metrics=['accuracy'])\n",
    "\n",
    "checkpoint = get_checkpoint(final_model_dir)\n",
    "callbacks = [checkpoint, early_stopping]"
   ]
  },
  {
   "cell_type": "code",
   "execution_count": null,
   "metadata": {
    "_uuid": "116494306ac45b414a8dc27cab09af6aa71833f5"
   },
   "outputs": [],
   "source": [
    "training_history = predicted_model.fit_generator(\n",
    "    train_generator,\n",
    "    validation_data=valid_generator,\n",
    "    steps_per_epoch=train_step_size,\n",
    "    validation_steps=valid_step_size,\n",
    "    epochs=int(epochs * 2/3),\n",
    "    verbose=1,\n",
    "    callbacks=callbacks\n",
    ")"
   ]
  },
  {
   "cell_type": "code",
   "execution_count": null,
   "metadata": {
    "_uuid": "3adf547fb25dc63a6343bce6d490aa71eaa2ba11"
   },
   "outputs": [],
   "source": [
    "plot_model(training_history)"
   ]
  },
  {
   "cell_type": "code",
   "execution_count": null,
   "metadata": {
    "_uuid": "6a842f2cd6f50c6f98aa628d0c57631d26360177"
   },
   "outputs": [],
   "source": [
    "model_saved_json = predicted_model.to_json()\n",
    "\n",
    "with open('../models/' + 'model.json', 'w') as json_file:\n",
    "# with open('./' + 'model.json', 'w') as json_file:\n",
    "    json_file.write(model_saved_json)"
   ]
  },
  {
   "cell_type": "markdown",
   "metadata": {
    "_uuid": "bc30046f365591b762216fc5328fb344bdd53329"
   },
   "source": [
    "## Mapping Test label into JSON file"
   ]
  },
  {
   "cell_type": "markdown",
   "metadata": {
    "_uuid": "f6193ab21048a9b7f9bca378c0f8021cd7de0f6f"
   },
   "source": [
    "Displaying the test flower names from source as ground truth labels. We will compare these labels with our predictions produced by our trained model."
   ]
  },
  {
   "cell_type": "code",
   "execution_count": 32,
   "metadata": {
    "_uuid": "0f40a73813e0ad6cd7f59e5b9e83722ff13090e4"
   },
   "outputs": [
    {
     "name": "stdout",
     "output_type": "stream",
     "text": [
      "{('frangipani', 81), ('passion flower', 77), ('water lily', 73), ('wallflower', 46), ('cyclamen', 88), ('watercress', 89)}\n"
     ]
    }
   ],
   "source": [
    "with open(categories_in_file) as json_file:\n",
    "    flower_names = json.load(json_file)\n",
    "    test_flower_names = [flower_names[str(label)] for label in test_labels]\n",
    "\n",
    "print(set([(flower_names[str(label)], label) for label in test_labels]))"
   ]
  },
  {
   "cell_type": "markdown",
   "metadata": {
    "_uuid": "0e5dcf6d639bbd5ca46665b1d7355df0f14d4bfe"
   },
   "source": [
    "## Evaluate Model"
   ]
  },
  {
   "cell_type": "code",
   "execution_count": null,
   "metadata": {
    "_uuid": "34fb4f6f2eceaa7b232fa13ca8ba8d1639af2e3e"
   },
   "outputs": [],
   "source": [
    "predicted_model.load_weights(final_model_dir)"
   ]
  },
  {
   "cell_type": "code",
   "execution_count": null,
   "metadata": {
    "_uuid": "3c4ca9ca89525ac24184746ae25f037ee30f1bc7"
   },
   "outputs": [],
   "source": [
    "evaluation = predicted_model.evaluate_generator(valid_generator, \n",
    "                                                steps=valid_generator.batch_size)"
   ]
  },
  {
   "cell_type": "code",
   "execution_count": null,
   "metadata": {
    "_uuid": "9d60f2c508514a8835e89e4be15994ad2cc7f913"
   },
   "outputs": [],
   "source": [
    "print(evaluation)"
   ]
  },
  {
   "cell_type": "code",
   "execution_count": null,
   "metadata": {
    "_uuid": "5c36fab216c647b8c9421d6a84f1cf8e4a7c9b7d"
   },
   "outputs": [],
   "source": [
    "test_generator.reset()\n",
    "prediction = predicted_model.predict_generator(test_generator,\n",
    "                                               steps=len(test_generator.labels), verbose=1)\n",
    "\n",
    "predicted_classes = np.argmax(prediction, axis=1)"
   ]
  },
  {
   "cell_type": "code",
   "execution_count": null,
   "metadata": {
    "_uuid": "4ba6d118c9e1edbaef393cadb90fa7bfbd090076"
   },
   "outputs": [],
   "source": [
    "labels = dict((value, key) for key, value in train_generator.class_indices.items())\n",
    "predictions = [labels[k] for k in predicted_classes]"
   ]
  },
  {
   "cell_type": "code",
   "execution_count": null,
   "metadata": {
    "_uuid": "f4eb62263cfe8263069fb3698ddaa7801ff910e9"
   },
   "outputs": [],
   "source": [
    "file_indices = test_generator.filenames\n",
    "results = pd.DataFrame({\n",
    "    \"Filename\": file_indices,\n",
    "    \"Prediction\": predictions,\n",
    "    \"Grouth truth label\": test_flower_names\n",
    "})\n",
    "results.to_csv(\"results.csv\", index=False)\n",
    "results.to_csv(\"../results/results.csv\", index=False)\n",
    "results"
   ]
  },
  {
   "cell_type": "markdown",
   "metadata": {
    "_uuid": "20579723080b87692f29463fab04333899dd55a0"
   },
   "source": [
    "## Visualization"
   ]
  },
  {
   "cell_type": "markdown",
   "metadata": {
    "_uuid": "545f5c9e96d8a594e9299e6b3995033645d699bb"
   },
   "source": [
    "Drawing heatmap for confusion matrix on how well our model performs."
   ]
  },
  {
   "cell_type": "code",
   "execution_count": 45,
   "metadata": {
    "_uuid": "59b1cebcc0bab6fd5b8a5502070cabe25ed331f1"
   },
   "outputs": [
    {
     "name": "stdout",
     "output_type": "stream",
     "text": [
      "Counter({77: 251, 73: 194, 89: 183, 81: 166, 88: 152, 46: 54})\n",
      "(46, 54)\n",
      "(81, 166)\n",
      "(89, 183)\n",
      "(88, 152)\n",
      "(73, 194)\n",
      "(77, 251)\n"
     ]
    },
    {
     "data": {
      "text/plain": [
       "Text(33.0, 0.5, 'Predicted label')"
      ]
     },
     "execution_count": 45,
     "metadata": {},
     "output_type": "execute_result"
    },
    {
     "data": {
      "image/png": "[encoded data removed]",
      "text/plain": [
       "<Figure size 432x288 with 2 Axes>"
      ]
     },
     "metadata": {
      "needs_background": "light"
     },
     "output_type": "display_data"
    }
   ],
   "source": [
    "flowers = Counter(test_labels)\n",
    "flowers_names = [str(key) for key in flowers.keys()]\n",
    "\n",
    "print(flowers)\n",
    "\n",
    "while flowers:\n",
    "    print(flowers.popitem())\n",
    "\n",
    "try:\n",
    "    matrix = confusion_matrix(test_flower_names, test_flower_names)\n",
    "    df = pd.DataFrame(matrix, index=flowers_names, columns=flowers_names)\n",
    "    heatmap = sns.heatmap(df, annot=True, fmt=\"d\")\n",
    "except ValueError:\n",
    "    raise ValueError(\"Confusion matrix values must be integers.\")\n",
    "\n",
    "heatmap.yaxis.set_ticklabels(heatmap.yaxis.get_ticklabels(), \n",
    "                             rotation=0, ha='right', fontsize=12.0)\n",
    "heatmap.xaxis.set_ticklabels(heatmap.xaxis.get_ticklabels(), \n",
    "                             rotation=45, ha='right', fontsize=12.0)\n",
    "\n",
    "plt.xlabel('Ground Truth label')\n",
    "plt.ylabel('Predicted label')"
   ]
  },
  {
   "cell_type": "code",
   "execution_count": null,
   "metadata": {
    "_uuid": "bd45492fb4e8fbd4ca5beda2f738a463798b0ac6"
   },
   "outputs": [],
   "source": [
    "## Cleanup session for backend\n",
    "k.clear_session()"
   ]
  }
 ],
 "metadata": {
  "kernelspec": {
   "display_name": "capstone_env",
   "language": "python",
   "name": "capstone_env"
  },
  "language_info": {
   "codemirror_mode": {
    "name": "ipython",
    "version": 3
   },
   "file_extension": ".py",
   "mimetype": "text/x-python",
   "name": "python",
   "nbconvert_exporter": "python",
   "pygments_lexer": "ipython3",
   "version": "3.7.1"
  }
 },
 "nbformat": 4,
 "nbformat_minor": 1
}
